{
 "cells": [
  {
   "cell_type": "markdown",
   "metadata": {},
   "source": [
    "# 課外プロジェクト 2016 実践的プログラミング\n",
    "## ~ Ruby I ~\n",
    "2016 4/5 渡部未来・齊藤智博・海老原圭吾\n",
    "資料URL: https://github.com/SCCP2016/Document-rubytutorial-for-sccp2016"
   ]
  }
 ],
 "metadata": {
  "kernelspec": {
   "display_name": "Ruby",
   "language": "ruby",
   "name": "ruby"
  },
  "language_info": {
   "file_extension": "rb",
   "mimetype": "text/ruby",
   "name": "ruby",
   "version": "2.2.2"
  }
 },
 "nbformat": 4,
 "nbformat_minor": 0
}

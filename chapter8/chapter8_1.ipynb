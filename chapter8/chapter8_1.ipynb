{
 "cells": [
  {
   "cell_type": "markdown",
   "metadata": {},
   "source": [
    "## 8.1 RubyGemsの概要と使い\n",
    "\n",
    "**RubyGems**とは、Rubyの**パッケージマネージャ**のことである。パッケージマネージャは世界中のプログラマが投稿したパッケージ(ライブラリやフレームワーク)をローカルな環境で利用することを支援するツールのことで、パッケージのインストール(プログラムをシステムで利用可能な状態にすること)や削除、また**依存関係の解決**を行う。\n",
    "\n",
    "\n",
    "依存関係とは、ある、パッケージを含む様々なプログラムを利用する際に、そのプログラム以外にも必要なプログラムがある状態のことを言う。例えば以下の図のような状態のことである。\n",
    "\n",
    "<img src=\"./img/ruby_gems1.png\" height=\"100px\" />\n",
    "\n",
    "この図では、あるXというWebサービスをRubyで書くときにrailsというライブラリを利用しているので依存関係が発生している。このとき、**Xはrailsに依存している**という。この図だけ見ると、railsをインストールすればXは実行可能になるように見える。では次の図を見てみよう。\n",
    "\n",
    "<img src=\"./img/ruby_gems5.png\" height=\"170px\" />\n",
    "\n",
    "実はrailsもnokogiriやmail、jsonなどの別のライブラリに依存していたとする。この場合、railsをインストールするにはそれらのライブラリが必要になるので、Xはrails以外にもパッケージをインストールしなければならない。このように、依存関係から必要になったライブラリをインストールして、ライブラリを利用可能な状態にすることを**依存関係を解決する**という。この依存関係の解決は、利用するライブラリの依存関係が複雑になってくると自分の手で行うのは困難である。\n",
    "\n",
    "<img src=\"./img/ruby_gems4.png\" height=\"140px\" />\n",
    "\n",
    "パッケージマネージャはこの依存関係の解決を自動で行ってくれる。具体的には、上の図のAというパッケージをインストールするときに、依存するa、b、c、dなど他の依存しているパッケージも一緒にインストールしてくれるので、Aの利用者は依存しているパッケージを意識的にインストールする必要はなくなる。\n",
    "\n",
    "---\n",
    "\n",
    "では、実際にRubyGemsを使ってパッケージを使ったプログラムを書いてみよう。\n",
    "\n",
    "まず、RubyGems利用するためにはgemコマンドを環境にインストールしなければならない。OSごとのパッケージマネージャからインストールするか、[RubyGemsのソースコード](https://rubygems.org/pages/download)を直接ビルドしてインストールすると良い。これ以降はgemコマンドが使える状態という前提で説明していく。\n",
    "\n",
    "gemコマンドを利用してgemをインストールする時には以下のコマンドを実行する。\n",
    "\n",
    "```\n",
    "gem install [gem名]\n",
    "```\n",
    "\n",
    "では実際にTitleizeというライブラリをインストールして利用してみよう。\n",
    "Titleizeとは文字列を単語ごとに区切ってそれぞれの頭文字を大文字に変換する、titleizeメソッドを提供するgemライブラリである。\n",
    "\n",
    "```\n",
    "gem install titleize\n",
    "```\n",
    "\n",
    "次に、インストールしたパッケージを使ってプログラムを書いてみる。\n",
    "\n",
    "```ruby\n",
    "require 'titalize'\n",
    "\n",
    "puts 'this is the lecture text of ruby for SCCP2016'\n",
    "#=>   this is the lecture text of ruby for SCCP2016\n",
    "\n",
    "puts 'this is the lecture text of ruby for SCCP2016'.titleize\n",
    "#=>   This Is the Lecture Text of Ruby for SCCP2016\n",
    "```\n",
    "\n",
    "requireはC言語での#includeの役割をするが、Rubyのrequireは構文ではなくメソッドである。\n",
    "\n",
    "ただし、このページで説明したgemコマンドは学校の環境では使えないので、個人で使っているパソコンにインストールして使ってみよう。"
   ]
  }
 ],
 "metadata": {
  "kernelspec": {
   "display_name": "Ruby",
   "language": "ruby",
   "name": "ruby"
  },
  "language_info": {
   "file_extension": "rb",
   "mimetype": "text/ruby",
   "name": "ruby",
   "version": "2.2.2"
  }
 },
 "nbformat": 4,
 "nbformat_minor": 0
}

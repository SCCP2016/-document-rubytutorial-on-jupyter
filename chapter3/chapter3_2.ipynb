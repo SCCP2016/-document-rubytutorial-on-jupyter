{
 "cells": [
  {
   "cell_type": "markdown",
   "metadata": {},
   "source": [
    "# 3.2 参照透過性\n",
    "\n",
    "**参照透過性**とは、計算機言語の概念の一種である。ある式が参照透過であるとは、その式をその式の値に置き換えてもプログラムの振る舞いが変わらない(言い換えれば、同じ入力に対して同じ作用と同じ出力とを持つプログラムになる)ことを言う。数学的な関数は必ずこの性質を満たすが、プログラムにおける関数は必ずしもそうとは言えない。次の配列の先頭と2番目の要素を入れ替える*swap!*関数を見てみよう。"
   ]
  },
  {
   "cell_type": "code",
   "execution_count": 1,
   "metadata": {
    "collapsed": false
   },
   "outputs": [
    {
     "data": {
      "text/plain": [
       ":swap!"
      ]
     },
     "execution_count": 1,
     "metadata": {},
     "output_type": "execute_result"
    }
   ],
   "source": [
    "def swap!(arr)\n",
    "    tmp = arr[0]\n",
    "    arr[0] = arr[1]\n",
    "    arr[1] = tmp\n",
    "    arr\n",
    "end"
   ]
  },
  {
   "cell_type": "code",
   "execution_count": 2,
   "metadata": {
    "collapsed": false
   },
   "outputs": [
    {
     "name": "stdout",
     "output_type": "stream",
     "text": [
      "==swap1==\n",
      "[2, 1]\n",
      "true\n",
      "[2, 1]\n",
      "==swap2==\n",
      "[1, 2]\n",
      "false\n",
      "[1, 2]\n",
      "==swap3==\n",
      "[2, 1]\n",
      "true\n",
      "[2, 1]\n"
     ]
    },
    {
     "data": {
      "text/plain": [
       "[2, 1]"
      ]
     },
     "execution_count": 2,
     "metadata": {},
     "output_type": "execute_result"
    }
   ],
   "source": [
    "arr = [1, 2]\n",
    "puts \"==swap1==\"\n",
    "swapped = swap!(arr)\n",
    "p swapped\n",
    "p [2, 1] == swapped\n",
    "p arr\n",
    "puts \"==swap2==\"\n",
    "swapped = swap!(arr)\n",
    "p swapped\n",
    "p [2, 1] == swapped\n",
    "p arr\n",
    "puts \"==swap3==\"\n",
    "swapped = swap!(arr)\n",
    "p swapped\n",
    "p [2, 1] == swapped\n",
    "p arr"
   ]
  },
  {
   "cell_type": "markdown",
   "metadata": {},
   "source": [
    "*swap!*関数は、一時変数*tmp*と添字を利用した配列の要素の書き換えを行っている。ここで注意したいのが、この関数は引数で渡した配列(*arr*)の**状態を書き換えてしまっている**。そのため、*swap!*に同じ引数を渡しているにも関わらず、毎回結果が変わってしまっている。このように元の状態を書き換えてしまうことを**破壊的変更**と呼ぶ。このような関数が多用されている場合、コードの実行結果が予想しにくくバグの原因となってしまう。また、関数の戻り値の結果が予測しにくいためテストが書きにくくなってしまう、などの弱点もある。Rubyでは、破壊的変更があるメソッドのことを**破壊的メソッド**と呼び、*swap!*のようにメソッドの末尾に*!*が書かれている。ただし、このルールに則っていないメソッドもあるので注意が必要だ。\n",
    "\n",
    "swap!の場合、あらかじめ破壊的変更を認識していれば、関数の戻り値は必要が無く*arr*を書き換えるための関数とすることも出来る。その場合、数学的な関数とは明確に違い、入力があったら、それに応じて出力をするという作用をせず、副次的な効果を起こすということで**副作用**と呼ぶ。副作用を利用した主な関数にはキーボードやマウス・ファイルの入出力などを行う関数などが挙げられる。"
   ]
  },
  {
   "cell_type": "markdown",
   "metadata": {},
   "source": [
    "それでは、swapの副作用を起こさないバージョンの定義を見てみよう。\n",
    "\n",
    "まず、swap関数の第一行目では配列の先頭と2番目を取り出す為の構文、**多重代入**を利用している。そして、swap関数の戻り値は、それらの要素を再利用して新しい配列を作って戻り値としている。"
   ]
  },
  {
   "cell_type": "code",
   "execution_count": 3,
   "metadata": {
    "collapsed": false
   },
   "outputs": [
    {
     "data": {
      "text/plain": [
       ":swap"
      ]
     },
     "execution_count": 3,
     "metadata": {},
     "output_type": "execute_result"
    }
   ],
   "source": [
    "def swap(arr)\n",
    "    x, y = arr\n",
    "    [y, x]\n",
    "end"
   ]
  },
  {
   "cell_type": "markdown",
   "metadata": {},
   "source": [
    "その結果*arr*は、ずっと値が変わらずに*swap*も同じ結果を返し続けていることが確認でき、参照透過性が保たれていると言える。更に確認の為にarrは**freeze**メソッドが適用されている。このメソッドは、配列やオブジェクトが破壊的があった場合は明示的にエラーを起こしてくれる。参照等価性が保たれていることで、挙動が予測しやすくバグが起きにくくなる。"
   ]
  },
  {
   "cell_type": "code",
   "execution_count": 4,
   "metadata": {
    "collapsed": false
   },
   "outputs": [
    {
     "name": "stdout",
     "output_type": "stream",
     "text": [
      "==swap1==\n",
      "[2, 1]\n",
      "true\n",
      "[1, 2]\n",
      "==swap2==\n",
      "[2, 1]\n",
      "true\n",
      "[1, 2]\n",
      "==swap3==\n",
      "[2, 1]\n",
      "true\n",
      "[1, 2]\n"
     ]
    },
    {
     "data": {
      "text/plain": [
       "[1, 2]"
      ]
     },
     "execution_count": 4,
     "metadata": {},
     "output_type": "execute_result"
    }
   ],
   "source": [
    "arr = [1, 2].freeze\n",
    "puts \"==swap1==\"\n",
    "swapped = swap(arr)\n",
    "p swapped\n",
    "p [2, 1] == swapped\n",
    "p arr\n",
    "puts \"==swap2==\"\n",
    "swapped = swap(arr)\n",
    "p swapped\n",
    "p [2, 1] == swapped\n",
    "p arr\n",
    "puts \"==swap3==\"\n",
    "swapped = swap(arr)\n",
    "p swapped\n",
    "p [2, 1] == swapped\n",
    "p arr"
   ]
  },
  {
   "cell_type": "markdown",
   "metadata": {},
   "source": [
    "## 演習\n",
    "\n",
    "配列(Array)のpushメソッドを非破壊的にした関数を実装せよ。"
   ]
  },
  {
   "cell_type": "code",
   "execution_count": 5,
   "metadata": {
    "collapsed": false
   },
   "outputs": [
    {
     "data": {
      "text/plain": [
       ":push"
      ]
     },
     "execution_count": 5,
     "metadata": {},
     "output_type": "execute_result"
    }
   ],
   "source": [
    "def push(arr, elem)\n",
    "end"
   ]
  },
  {
   "cell_type": "markdown",
   "metadata": {},
   "source": [
    "### チェックリスト\n",
    "* 参照透過性とはなにか\n",
    "* 副作用のデメリットは何か\n",
    "* 参照透過性を保っている関数のメリットは何か"
   ]
  }
 ],
 "metadata": {
  "kernelspec": {
   "display_name": "Ruby",
   "language": "ruby",
   "name": "ruby"
  },
  "language_info": {
   "file_extension": "rb",
   "mimetype": "text/ruby",
   "name": "ruby",
   "version": "2.2.2"
  }
 },
 "nbformat": 4,
 "nbformat_minor": 0
}

{
 "cells": [
  {
   "cell_type": "markdown",
   "metadata": {},
   "source": [
    "### 3.1 関数の定義\n",
    "\n",
    "Rubyは、すべての値がオブジェクトな **純粋なオブジェクト指向言語** のため、 **関数** ではなく **メソッド** ですが、ここでは敢えて **関数** として話を進めていきます。\n",
    "\n",
    "まず初めに、与えた数値の二乗を返す関数は以下のように定義され、呼び出し実行されます。"
   ]
  },
  {
   "cell_type": "code",
   "execution_count": 2,
   "metadata": {
    "collapsed": false
   },
   "outputs": [
    {
     "data": {
      "text/plain": [
       ":square"
      ]
     },
     "execution_count": 2,
     "metadata": {},
     "output_type": "execute_result"
    }
   ],
   "source": [
    "def square(x)\n",
    "  x * x\n",
    "end"
   ]
  },
  {
   "cell_type": "code",
   "execution_count": 3,
   "metadata": {
    "collapsed": false
   },
   "outputs": [
    {
     "data": {
      "text/plain": [
       "9"
      ]
     },
     "execution_count": 3,
     "metadata": {},
     "output_type": "execute_result"
    }
   ],
   "source": [
    "square(3)"
   ]
  },
  {
   "cell_type": "code",
   "execution_count": 4,
   "metadata": {
    "collapsed": false,
    "scrolled": true
   },
   "outputs": [
    {
     "data": {
      "text/plain": [
       "2.25"
      ]
     },
     "execution_count": 4,
     "metadata": {},
     "output_type": "execute_result"
    }
   ],
   "source": [
    "square(1.5)"
   ]
  },
  {
   "cell_type": "markdown",
   "metadata": {},
   "source": [
    "この時点でC言語と比べると、一見些細だが気をつけるべき点がいくつかあります。大きくは型が明記されない点です。これはRubyが **Script言語** で **動的型付け** であることに基づいています。以上の理由により戻り値と引数の型は存在しません。注意するべきなのは、呼び出し時で型がないためにどんな値も渡すことが出来てしまう点です。ここでは整数・小数は掛け算をすることが出来るので問題なく計算が行われますが、文字列は掛け算をすることができないため、型の「実行時エラー」となってしまいます。Rubyはコンパイルして型をチェックできないのが大きな欠点となるでしょう。"
   ]
  },
  {
   "cell_type": "code",
   "execution_count": 6,
   "metadata": {
    "collapsed": false
   },
   "outputs": [
    {
     "ename": "TypeError",
     "evalue": "no implicit conversion of String into Integer",
     "output_type": "error",
     "traceback": [
      "\u001b[31mTypeError\u001b[0m: no implicit conversion of String into Integer",
      "\u001b[37m<main>:1:in `*'\u001b[0m",
      "\u001b[37m<main>:1:in `square'\u001b[0m",
      "\u001b[37m<main>:in `<main>'\u001b[0m",
      "\u001b[37m/usr/local/bundle/gems/iruby-0.2.1/lib/iruby/backend.rb:8:in `eval'\u001b[0m",
      "\u001b[37m/usr/local/bundle/gems/iruby-0.2.1/lib/iruby/backend.rb:8:in `eval'\u001b[0m",
      "\u001b[37m/usr/local/bundle/gems/iruby-0.2.1/lib/iruby/kernel.rb:104:in `execute_request'\u001b[0m",
      "\u001b[37m/usr/local/bundle/gems/iruby-0.2.1/lib/iruby/kernel.rb:64:in `run'\u001b[0m",
      "\u001b[37m/usr/local/bundle/gems/iruby-0.2.1/lib/iruby/command.rb:76:in `run_kernel'\u001b[0m",
      "\u001b[37m/usr/local/bundle/gems/iruby-0.2.1/lib/iruby/command.rb:33:in `run'\u001b[0m",
      "\u001b[37m/usr/local/bundle/gems/iruby-0.2.1/bin/iruby:5:in `<top (required)>'\u001b[0m",
      "\u001b[37m/usr/local/bundle/bin/iruby:23:in `load'\u001b[0m",
      "\u001b[37m/usr/local/bundle/bin/iruby:23:in `<main>'\u001b[0m"
     ]
    }
   ],
   "source": [
    "square('aaa') # 型の実行時エラー"
   ]
  },
  {
   "cell_type": "markdown",
   "metadata": {},
   "source": [
    "Ruby上での関数の定義は以下のようになります。\n",
    "\n",
    "```ruby\n",
    "def 関数名(仮引数名, ...)\n",
    "  式\n",
    "  ...\n",
    "end\n",
    "```\n",
    "\n",
    "いくつかの注意するべき点は先ほど述べた通りですが、関数の内部について着目すると式の集まり(集合)になっていることがわかるでしょう。Rubyの関数は最後に評価された式を戻り値として使うため*return*キーワードを明記する必要はありません。それを踏まえると以下の例は何を返すでしょうか？"
   ]
  },
  {
   "cell_type": "code",
   "execution_count": 7,
   "metadata": {
    "collapsed": false
   },
   "outputs": [
    {
     "data": {
      "text/plain": [
       ":even_double"
      ]
     },
     "execution_count": 7,
     "metadata": {},
     "output_type": "execute_result"
    }
   ],
   "source": [
    "def even_double(x)\n",
    "  if x % 2 == 0 then\n",
    "    x * 2\n",
    "  else\n",
    "    x\n",
    "  end\n",
    "end"
   ]
  },
  {
   "cell_type": "code",
   "execution_count": 8,
   "metadata": {
    "collapsed": false
   },
   "outputs": [
    {
     "data": {
      "text/plain": [
       "3"
      ]
     },
     "execution_count": 8,
     "metadata": {},
     "output_type": "execute_result"
    }
   ],
   "source": [
    "even_double(3)"
   ]
  },
  {
   "cell_type": "code",
   "execution_count": 9,
   "metadata": {
    "collapsed": false
   },
   "outputs": [
    {
     "data": {
      "text/plain": [
       "8"
      ]
     },
     "execution_count": 9,
     "metadata": {},
     "output_type": "execute_result"
    }
   ],
   "source": [
    "even_double(4)"
   ]
  },
  {
   "cell_type": "markdown",
   "metadata": {},
   "source": [
    "ifなどの制御式やmapなどの多くのイテレータが値を返す意味がわかったでしょうか。\n",
    "以上を抑えれば基本的な関数は作れるでしょう。以下の演習問題で試してみましょう。\n",
    "\n",
    "### 演習問題\n",
    "名前を入力したらイニシャル(文字列)を返す関数*initial*を作れ。\n",
    "以下実行例：\n",
    "```ruby\n",
    "> initial('John', 'Keneddy')\n",
    "=> \"J.K\"\n",
    "```"
   ]
  },
  {
   "cell_type": "code",
   "execution_count": null,
   "metadata": {
    "collapsed": true
   },
   "outputs": [],
   "source": [
    "def initial(first, second)\n",
    "   # ...ここにプログラムを書く \n",
    "end\n",
    "\n",
    "initial('Like', 'Mike')"
   ]
  },
  {
   "cell_type": "markdown",
   "metadata": {},
   "source": [
    "### チェックリスト\n",
    "Rubyの関数について、以下の点での特徴を述べよ。\n",
    "\n",
    "- 型\n",
    "- 戻り値"
   ]
  }
 ],
 "metadata": {
  "kernelspec": {
   "display_name": "Ruby",
   "language": "ruby",
   "name": "ruby"
  },
  "language_info": {
   "file_extension": "rb",
   "mimetype": "text/ruby",
   "name": "ruby",
   "version": "2.2.2"
  }
 },
 "nbformat": 4,
 "nbformat_minor": 0
}

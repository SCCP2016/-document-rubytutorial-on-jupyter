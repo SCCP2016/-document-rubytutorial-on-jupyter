{
 "cells": [
  {
   "cell_type": "markdown",
   "metadata": {},
   "source": [
    "### 5.3 ブロック付きメソッドの定義\n",
    "\n",
    "今回はブロック付きメソッドとその定義の仕方について解説する。ブロック付きメソッドとは、メソッドにブロックと呼ばれる処理のまとまりを渡して、メソッド内でブロックを呼び出すことができるメソッドのことである。\n",
    "\n",
    "```ruby\n",
    "[メソッド名] (メソッド引数){|ブロック引数|\n",
    "\t処理...\n",
    "}\n",
    "```\n",
    "\n",
    "では実際にブロック付きメソッドを定義するときに渡されたブロックを呼び出すにはどうすればいいのだろうか？　以下のrunメソッドを見てみよう。"
   ]
  },
  {
   "cell_type": "code",
   "execution_count": 2,
   "metadata": {
    "collapsed": false
   },
   "outputs": [
    {
     "data": {
      "text/plain": [
       ":run"
      ]
     },
     "execution_count": 2,
     "metadata": {},
     "output_type": "execute_result"
    }
   ],
   "source": [
    "def run\n",
    "    yield\n",
    "end"
   ]
  },
  {
   "cell_type": "code",
   "execution_count": 3,
   "metadata": {
    "collapsed": false
   },
   "outputs": [
    {
     "name": "stdout",
     "output_type": "stream",
     "text": [
      "\"Hello\"\n"
     ]
    },
    {
     "data": {
      "text/plain": [
       "\"Hello\""
      ]
     },
     "execution_count": 3,
     "metadata": {},
     "output_type": "execute_result"
    }
   ],
   "source": [
    "run{ p 'Hello'}"
   ]
  },
  {
   "cell_type": "markdown",
   "metadata": {},
   "source": [
    "このrunメソッドはブロック付きメソッドの定義の仕方を使って定義された、渡されたブロックを **そのまま実行する** メソッドである。runメソッド内のyieldメソッドは渡されたブロックを実行するメソッドである。ブロック引数を渡すにはそのままyieldに渡せばよい。\n",
    "\n",
    "```ruby\n",
    "def run\n",
    "\tyield(1, 2, 3)\n",
    "end\n",
    "\n",
    "run{|a, b, c|\n",
    "\tputs \"#{a}, #{b}, #{c}\"\n",
    "}\n",
    "#=> 1, 2, 3\n",
    "```\n",
    "\n",
    "ブロック付きメソッドの良いところは、メソッド内の処理の一部を呼び出し時に渡すことで、処理の抽象度を上げられることである。これは、次の章で習う配列でより詳しく説明される。"
   ]
  },
  {
   "cell_type": "markdown",
   "metadata": {},
   "source": [
    "### 演習\n",
    "ブロック付きメソッドを用いて、三つの整数の積を標準出力するようなプログラムを書け。"
   ]
  },
  {
   "cell_type": "code",
   "execution_count": null,
   "metadata": {
    "collapsed": false
   },
   "outputs": [],
   "source": []
  },
  {
   "cell_type": "markdown",
   "metadata": {},
   "source": [
    "### チェックリスト\n",
    "* ブロック付きメソッドのメリットは何か？"
   ]
  }
 ],
 "metadata": {
  "kernelspec": {
   "display_name": "Ruby",
   "language": "ruby",
   "name": "ruby"
  },
  "language_info": {
   "file_extension": "rb",
   "mimetype": "text/ruby",
   "name": "ruby",
   "version": "2.2.2"
  }
 },
 "nbformat": 4,
 "nbformat_minor": 0
}

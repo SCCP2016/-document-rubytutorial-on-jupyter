{
 "cells": [
  {
   "cell_type": "markdown",
   "metadata": {},
   "source": [
    "# 3.3 再帰関数とブロック付きメソッド\n",
    "\n",
    "3.2では、副作用の危険性や参照透過性を保った関数の利点を説明した。本章では副作用を利用しない反復手法や、より抽象的にプログラムを記述する手法を説明する。"
   ]
  },
  {
   "cell_type": "markdown",
   "metadata": {},
   "source": [
    "## 再帰関数\n",
    "\n",
    "Rubyにおける反復手法の一つは、2章で説明したループ(*for*, *while*)である。しかし、以下のような例の場合は、変数*res*の値が変更され続けるため、参照透過性を満たしていない。"
   ]
  },
  {
   "cell_type": "code",
   "execution_count": 1,
   "metadata": {
    "collapsed": false
   },
   "outputs": [
    {
     "data": {
      "text/plain": [
       "120"
      ]
     },
     "execution_count": 1,
     "metadata": {},
     "output_type": "execute_result"
    }
   ],
   "source": [
    "def factorial(n)\n",
    "    res = 1\n",
    "    for i in (1..n)\n",
    "        res *= i\n",
    "    end\n",
    "    res\n",
    "end\n",
    "\n",
    "factorial(5)"
   ]
  },
  {
   "cell_type": "markdown",
   "metadata": {},
   "source": [
    "ここで自身の関数を呼び出す**再帰関数**を利用する。再帰関数を考える際には、数学的帰納法の**基底段階**と**帰納段階**を考える事と良い。\n",
    "*factorialR*(Rは再帰recursiveのR)の場合には、以下のように考える。\n",
    "\n",
    "* 基底段階: ```n=0```のとき ```n! = 1``` とする\n",
    "* 帰納段階: ```n!```が分かっているとき、```(n + 1)! = (n + 1) * n!``` とする\n",
    "\n",
    "このとき 帰納段階では、左辺の(n + 1)! を定義するのに右辺のn!を用いている。\n",
    "すなわち、階乗を用いて階乗を定義している。\n",
    "階乗を表す関数を*factrialR*とすると、関数*factialR*(n)は、\n",
    "```\n",
    "f(n) = n * factorialR(n - 1)\n",
    "```\n",
    "というふうに、自分自身を自分で再帰的(recursive)に呼ぶことで、定義できる。"
   ]
  },
  {
   "cell_type": "code",
   "execution_count": 2,
   "metadata": {
    "collapsed": false
   },
   "outputs": [
    {
     "data": {
      "text/plain": [
       "120"
      ]
     },
     "execution_count": 2,
     "metadata": {},
     "output_type": "execute_result"
    }
   ],
   "source": [
    "def factorialR(n)\n",
    "    if n == 0\n",
    "        1\n",
    "    else\n",
    "        n * factorialR(n - 1)\n",
    "    end\n",
    "end\n",
    "\n",
    "factorialR(5)"
   ]
  },
  {
   "cell_type": "markdown",
   "metadata": {},
   "source": [
    "再帰関数を利用することによって、問題を分割し段階的に考えることができ、また、*factorial*の状態を扱う*res*のような変数が減り、シンプルに記述できる場合がある。それが顕著な例の一つがユークリッド互除法である。\n",
    "\n",
    "\n",
    "> ユークリッドの互除法（ユークリッドのごじょほう、英: Euclidean Algorithm）は、2 つの自然数の最大公約数を求める手法の一つである。\n",
    "2 つの自然数 a, b (a ≧ b) について、a の b による剰余を r とすると、 a と b との最大公約数は b と r との最大公約数に等しいという性質が成り立つ。この性質を利用して、 b を r で割った剰余、 除数 r をその剰余で割った剰余、と剰余を求める計算を逐次繰り返すと、剰余が 0 になった時の除数が a と b との最大公約数となる。\n",
    "\n",
    "引用: wikipedia https://ja.wikipedia.org/wiki/ユークリッドの互除法\n",
    "\n",
    "これをwhileループを用いた手続き的な手法を用いるとaやbの値を更新する必要があり、理解が難しいコードになる。"
   ]
  },
  {
   "cell_type": "code",
   "execution_count": 3,
   "metadata": {
    "collapsed": false
   },
   "outputs": [
    {
     "data": {
      "text/plain": [
       "3"
      ]
     },
     "execution_count": 3,
     "metadata": {},
     "output_type": "execute_result"
    }
   ],
   "source": [
    "def gcd(a, b)\n",
    "    while(b != 0)\n",
    "        r = a % b\n",
    "        a = b\n",
    "        b = r\n",
    "    end\n",
    "    a\n",
    "end\n",
    "\n",
    "gcd(3, 15)"
   ]
  },
  {
   "cell_type": "markdown",
   "metadata": {},
   "source": [
    "一方、再帰関数を用いると、\n",
    "\n",
    "* b == 0のとき、 a が最大公約数\n",
    "* それ以外のとき、bとaのbによる余剰の最大公約数\n",
    "\n",
    "と問題を分けて考えられるため、非常にわかりやすく記述することができる。\n"
   ]
  },
  {
   "cell_type": "code",
   "execution_count": 4,
   "metadata": {
    "collapsed": false
   },
   "outputs": [
    {
     "data": {
      "text/plain": [
       "3"
      ]
     },
     "execution_count": 4,
     "metadata": {},
     "output_type": "execute_result"
    }
   ],
   "source": [
    "def gcdR(a, b)\n",
    "    if b == 0\n",
    "        a\n",
    "    else\n",
    "        gcdR(b, a % b)\n",
    "    end\n",
    "end\n",
    "\n",
    "gcdR(3, 15)"
   ]
  },
  {
   "cell_type": "markdown",
   "metadata": {},
   "source": [
    "## 配列と再帰関数\n",
    "\n",
    "配列(リスト)のようなデータ構造の場合、以下のように構造を分割できる。このような構造のことを再帰的データ構造と呼ぶ。\n",
    "\n",
    "* 空のリスト\n",
    "* 先頭の要素 + 残りのリスト\n",
    "\n",
    "再帰的なデータ構造の場合は、再帰関数の考えが適用しやすい。配列の長さを求める関数*length*の場合は、以下のように考えることができる。\n",
    "\n",
    "* 空のとき 0\n",
    "* 空ではないとき 1 + 残りのリストの長さ\n",
    "\n",
    "3.2で学んだ多重代入を利用すると先頭の要素と残りのリストを取得することができる。"
   ]
  },
  {
   "cell_type": "code",
   "execution_count": 5,
   "metadata": {
    "collapsed": false
   },
   "outputs": [
    {
     "name": "stdout",
     "output_type": "stream",
     "text": [
      "1\n",
      "[2, 3]\n"
     ]
    },
    {
     "data": {
      "text/plain": [
       "[2, 3]"
      ]
     },
     "execution_count": 5,
     "metadata": {},
     "output_type": "execute_result"
    }
   ],
   "source": [
    "head, *tail = [1, 2, 3]\n",
    "p head\n",
    "p tail"
   ]
  },
  {
   "cell_type": "markdown",
   "metadata": {},
   "source": [
    "これらを利用すると、*length*の定義は以下のようになる。"
   ]
  },
  {
   "cell_type": "code",
   "execution_count": 6,
   "metadata": {
    "collapsed": false
   },
   "outputs": [
    {
     "data": {
      "text/plain": [
       "3"
      ]
     },
     "execution_count": 6,
     "metadata": {},
     "output_type": "execute_result"
    }
   ],
   "source": [
    "def length(arr)\n",
    "    if arr.empty?\n",
    "        0\n",
    "    else\n",
    "        head, *tail = arr\n",
    "        1 + length(tail)\n",
    "    end\n",
    "end\n",
    "\n",
    "length([1, 2, 3])"
   ]
  },
  {
   "cell_type": "markdown",
   "metadata": {},
   "source": [
    "配列のすべての要素を一つずつ見ていくような処理では、全て同じ形で一般化する事ができる。"
   ]
  },
  {
   "cell_type": "markdown",
   "metadata": {},
   "source": [
    "## ブロック付きメソッドと再帰\n",
    "Rubyの機能の一つに関数に処理(関数)を渡すことができる**ブロック**と言う仕組みがある。ブロックを引数に持つメソッドを**ブロック付きメソッド**と呼ぶ。\n",
    "\n",
    "block付きメソッドを呼び出し方法は、波括弧{}を用いた方法とdo~endを用いた方法二種類がある。それぞれ同じ意味だが、1行で済む場合には波括弧、複数行に渡る場合には、do~endを用いた方法と使い分けるスタイルが推奨されている。\n",
    "\n",
    "```ruby\n",
    "method() { |x| xを用いた処理 }\n",
    "\n",
    "method() do |x|\n",
    "    # xを用いた処理\n",
    "end\n",
    "```\n",
    "\n",
    "このブロックによる処理は関数とみなすことができるので、以下と同じように考えることができる。\n",
    "\n",
    "```ruby\n",
    "def block(x)\n",
    "    # xを用いた処理\n",
    "end\n",
    "```"
   ]
  },
  {
   "cell_type": "markdown",
   "metadata": {},
   "source": [
    "それでは、ブロックを持った関数は、どのように定義されるかを見ていこう。ブロックは、&を付けた変数として引数に渡される。このブロックを呼び出すには、*block.call*メソッドを呼び出す。"
   ]
  },
  {
   "cell_type": "code",
   "execution_count": 7,
   "metadata": {
    "collapsed": false
   },
   "outputs": [
    {
     "name": "stdout",
     "output_type": "stream",
     "text": [
      "5\n"
     ]
    }
   ],
   "source": [
    "def doBlock(x, &block)\n",
    "    block.call(x)\n",
    "end\n",
    "\n",
    "doBlock(5) { |x| puts x }"
   ]
  },
  {
   "cell_type": "markdown",
   "metadata": {},
   "source": [
    "単純にブロックを実行する場合には、*yield*キーワードを利用すると短く記述することができ、引数の*&block*も省略可能である。"
   ]
  },
  {
   "cell_type": "code",
   "execution_count": 8,
   "metadata": {
    "collapsed": false
   },
   "outputs": [
    {
     "name": "stdout",
     "output_type": "stream",
     "text": [
      "5\n"
     ]
    }
   ],
   "source": [
    "def doBlock(x)\n",
    "    yield(x)\n",
    "end\n",
    "\n",
    "doBlock(5) { |x| puts x }"
   ]
  },
  {
   "cell_type": "markdown",
   "metadata": {},
   "source": [
    "しかし、再帰関数や別の関数に*&block*を渡す場合には、*yield*による省略はできるが、明示的に関数に*&block*を渡す必要がある。"
   ]
  },
  {
   "cell_type": "code",
   "execution_count": 9,
   "metadata": {
    "collapsed": false
   },
   "outputs": [
    {
     "name": "stdout",
     "output_type": "stream",
     "text": [
      "hello\n",
      "hello\n",
      "hello\n",
      "hello\n",
      "hello\n"
     ]
    }
   ],
   "source": [
    "def times(t, &block)\n",
    "    if t <= 0\n",
    "        nil\n",
    "    else\n",
    "        yield\n",
    "        times(t - 1, &block)\n",
    "    end\n",
    "end\n",
    "\n",
    "times(5) { puts \"hello\" }"
   ]
  },
  {
   "cell_type": "markdown",
   "metadata": {},
   "source": [
    "配列の要素毎に関数を実行する*each*関数は、以下のように定義でき、*lenght*関数と同じような再帰の形になる。"
   ]
  },
  {
   "cell_type": "code",
   "execution_count": 10,
   "metadata": {
    "collapsed": false
   },
   "outputs": [
    {
     "data": {
      "text/plain": [
       ":each"
      ]
     },
     "execution_count": 10,
     "metadata": {},
     "output_type": "execute_result"
    }
   ],
   "source": [
    "def each(arr, &block)\n",
    "    if arr.empty?\n",
    "        nil\n",
    "    else\n",
    "        head, *tail = arr\n",
    "        block.call(head)\n",
    "        each(tail, &block)\n",
    "    end\n",
    "end"
   ]
  },
  {
   "cell_type": "markdown",
   "metadata": {},
   "source": [
    "ブロック付きメソッドを利用することで、ループによるデータの反復方法について考える必要が無く、各要素に対してどのような処理をするかというロジック部分だけに集中することが出来るのが利点である。"
   ]
  },
  {
   "cell_type": "code",
   "execution_count": 11,
   "metadata": {
    "collapsed": false
   },
   "outputs": [
    {
     "name": "stdout",
     "output_type": "stream",
     "text": [
      "1\n",
      "2\n",
      "3\n"
     ]
    }
   ],
   "source": [
    "each([1, 2, 3]) { |x| puts x }"
   ]
  },
  {
   "cell_type": "code",
   "execution_count": 12,
   "metadata": {
    "collapsed": false
   },
   "outputs": [
    {
     "name": "stdout",
     "output_type": "stream",
     "text": [
      "1\n",
      "4\n",
      "9\n"
     ]
    }
   ],
   "source": [
    "each([1, 2, 3]) { |x| puts x * x }"
   ]
  },
  {
   "cell_type": "markdown",
   "metadata": {},
   "source": [
    "## チェックリスト\n",
    "\n",
    "* 再帰関数によりメリットは何か\n",
    "* ブロック付きメソッドとは何か\n",
    "* ブロック付きメソッドの利点は何か"
   ]
  }
 ],
 "metadata": {
  "kernelspec": {
   "display_name": "Ruby",
   "language": "ruby",
   "name": "ruby"
  },
  "language_info": {
   "file_extension": "rb",
   "mimetype": "text/ruby",
   "name": "ruby",
   "version": "2.2.2"
  }
 },
 "nbformat": 4,
 "nbformat_minor": 0
}

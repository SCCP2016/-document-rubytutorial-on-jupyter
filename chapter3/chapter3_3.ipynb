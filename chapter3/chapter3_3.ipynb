{
 "cells": [
  {
   "cell_type": "markdown",
   "metadata": {},
   "source": [
    "### 5.3 ブロック付きメソッドの定義とfor式\n",
    "\n",
    "ブロック付きメソッドの使い方については3.2で解説した。今回はその定義の仕方について解説する。ブロック付きメソッドとは、メソッドにブロックと呼ばれる処理のまとまりを渡して、メソッド内でブロックを呼び出すことができるメソッドのことである。\n",
    "\n",
    "初めに、ブロック付きメソッドの使い方を振り返ってみよう。\n",
    "\n",
    "```ruby\n",
    "[メソッド名](メソッド引数){|ブロック引数|\n",
    "\t処理...\n",
    "}\n",
    "\n",
    "#例\n",
    "a = [1, 2, 3]\n",
    "\n",
    "a.each(){|i|\n",
    "\tp i\n",
    "}\n",
    "#=> 1\\n2\\n3\\n\n",
    "```\n",
    "\n",
    "では実際にブロック付きメソッドを定義するときに渡されたブロックを呼び出すにはどうすればいいのだろうか？　以下のrunメソッドを見てみよう。"
   ]
  },
  {
   "cell_type": "code",
   "execution_count": 2,
   "metadata": {
    "collapsed": false
   },
   "outputs": [
    {
     "data": {
      "text/plain": [
       ":run"
      ]
     },
     "execution_count": 2,
     "metadata": {},
     "output_type": "execute_result"
    }
   ],
   "source": [
    "def run\n",
    "    yield\n",
    "end"
   ]
  },
  {
   "cell_type": "code",
   "execution_count": 3,
   "metadata": {
    "collapsed": false
   },
   "outputs": [
    {
     "name": "stdout",
     "output_type": "stream",
     "text": [
      "\"Hello\"\n"
     ]
    },
    {
     "data": {
      "text/plain": [
       "\"Hello\""
      ]
     },
     "execution_count": 3,
     "metadata": {},
     "output_type": "execute_result"
    }
   ],
   "source": [
    "run{ p 'Hello'}"
   ]
  },
  {
   "cell_type": "markdown",
   "metadata": {},
   "source": [
    "このrunメソッドはブロック付きメソッドの定義の仕方を使って定義された、渡されたブロックをそのまま実行するメソッドである。runメソッド内のyieldメソッドは渡されたブロックを実行するメソッドである。ブロック引数を渡すにはそのままyieldに渡せばよい。\n",
    "\n",
    "```ruby\n",
    "def run\n",
    "\tyield(1, 2, 3)\n",
    "end\n",
    "\n",
    "run{|a, b, c|\n",
    "\tputs \"#{a}, #{b}, #{c}\"\n",
    "}\n",
    "#=> 1, 2, 3\n",
    "```\n",
    "\n",
    "ブロック付きメソッドの良いところは、メソッド内の処理の一部を呼び出し時に渡すことで、処理の抽象度を上げられることである。例えば、配列の要素を先頭から一つひとつ取り出してブロックに渡すeachメソッドがあるが、ブロック付きメソッドを利用せずに同様の処理をしようとすると、配列の先頭から取り出す部分の処理を繰り返し書かなければならない。\n",
    "\n",
    "```ruby\n",
    "for i in array1\n",
    "\t...\n",
    "end\n",
    "\n",
    "for i in array2\n",
    "\t...\n",
    "end\n",
    "```\n",
    "\n",
    "ブロック付きメソッドを使えば、異なる部分のみを変えて取り出す部分の処理を再利用できる。\n",
    "\n",
    "```ruby\n",
    "# ブロックのみ書き換えれば良い。\n",
    "array1.each(){|i| ... }\n",
    "array2.each(){|i| ... }\n",
    "```\n",
    "\n",
    "実際、配列を操作するためのメソッドの多くはeachメソッドのブロック部分を変えることで定義されている(chapter7.3のEnumerableを参照)。"
   ]
  },
  {
   "cell_type": "markdown",
   "metadata": {},
   "source": [
    "### 演習"
   ]
  },
  {
   "cell_type": "markdown",
   "metadata": {},
   "source": [
    "### チェックリスト"
   ]
  }
 ],
 "metadata": {
  "kernelspec": {
   "display_name": "Ruby",
   "language": "ruby",
   "name": "ruby"
  },
  "language_info": {
   "file_extension": "rb",
   "mimetype": "text/ruby",
   "name": "ruby",
   "version": "2.2.2"
  }
 },
 "nbformat": 4,
 "nbformat_minor": 0
}

{
 "cells": [
  {
   "cell_type": "markdown",
   "metadata": {},
   "source": [
    "## 1.2 スクリプトの実行\n",
    "スクリプト言語の特徴を持ったRubyのプログラムを書いて実行する場合の手順は、コンパイラ言語とそう変わりはない。\n",
    "「rb」の付いた拡張子のファイルを作成し、エディタを使ってスクリプトを記述する。"
   ]
  },
  {
   "cell_type": "markdown",
   "metadata": {},
   "source": [
    "```\n",
    "# -*- coding: utf-8 -*-\n",
    "\n",
    "puts 'HelloWorld!'  #=> HelloWorld! と出力される。\n",
    "```"
   ]
  },
  {
   "cell_type": "markdown",
   "metadata": {},
   "source": [
    "上のようにスクリプトが記述できたら、以下のように実行をしてみよう。"
   ]
  },
  {
   "cell_type": "markdown",
   "metadata": {},
   "source": [
    "```\n",
    "$ ruby hello.rb\n",
    "HelloWorld!\n",
    "```"
   ]
  },
  {
   "cell_type": "markdown",
   "metadata": {},
   "source": [
    "スクリプトの一行目は、スクリプト中に日本語を使うためのおまじないである。日本語を特に使わない場合は付けなくても構わない。\n",
    "付けない場合は実行エラーになってしまうので注意が必要だ(バージョン2.0以降ではどちらの場合でも不要になった)。putsは、文字列を出力するメソッド(関数のこと)で、末尾に改行を自動的に付けてくれる。\n",
    "改行を末尾に付けないprintメソッドも用意されている。# から始まると、以降はコメントとしてみなされる。\n",
    "資料では #=> と書いた場合は、プログラムの実行結果をあらわす。Rubyの練習では、AOJと呼ばれるオンラインジャッジシステムを使っていく。\n",
    "確認の意味を込めて、以下の問題を解いてみよう。\n",
    "\n",
    "http://judge.u-aizu.ac.jp/onlinejudge/description.jsp?id=ITP1_1_A \n",
    "\n",
    "Rubyは以上のようにファイルにプログラムを書く以外にも、プログラムを実行する対話型シェル(REPL)を備えている。\n",
    "REPLは*irb*とターミナルに打つことで起動ができる。"
   ]
  },
  {
   "cell_type": "markdown",
   "metadata": {},
   "source": [
    "```\n",
    "$ irb\n",
    "irb(main):001:0> 1+1\n",
    "=> 2\n",
    "irb(main):002:0> puts 'Hello'\n",
    "Hello\n",
    "=> nil\n",
    "irb(main):003:0> 123.to_s\n",
    "=> \"123\"\n",
    "irb(main):004:0> exit\n",
    "$\n",
    "```"
   ]
  },
  {
   "cell_type": "markdown",
   "metadata": {},
   "source": [
    "REPLでは任意のプログラムを打つことができ、実行結果が => の後に出力される。C-d、もしくは'exit', 'quit'とタイプすれば終了できる。\n",
    "単なる高度な計算機として使うことや知らないオブジェクトやメソッドの挙動を確かめるときに、型などを確認できるので非常に便利である。\n",
    "この資料でも、プログラムの挙動を確かめるときにはREPLを積極的に使用していく。"
   ]
  },
  {
   "cell_type": "markdown",
   "metadata": {},
   "source": [
    "## チェックポイント"
   ]
  },
  {
   "cell_type": "markdown",
   "metadata": {},
   "source": [
    "- スクリプト言語とはどのような特徴のある言語か？"
   ]
  },
  {
   "cell_type": "markdown",
   "metadata": {},
   "source": [
    "- プログラムをファイルに書きださずにREPLを使う目的はなにか？"
   ]
  }
 ],
 "metadata": {
  "kernelspec": {
   "display_name": "Ruby",
   "language": "ruby",
   "name": "ruby"
  },
  "language_info": {
   "file_extension": "rb",
   "mimetype": "text/ruby",
   "name": "ruby",
   "version": "2.2.2"
  }
 },
 "nbformat": 4,
 "nbformat_minor": 0
}

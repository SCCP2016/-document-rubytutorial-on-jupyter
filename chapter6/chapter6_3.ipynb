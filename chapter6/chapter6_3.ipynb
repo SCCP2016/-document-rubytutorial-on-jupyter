{
 "cells": [
  {
   "cell_type": "markdown",
   "metadata": {},
   "source": [
    "# 6.3 継承\n",
    "\n",
    "6.1, 6.2で説明したクラスを使えば、オブジェクトを作ることが出来る。さらにRubyのクラスを拡張し、別なクラスを作る継承と呼ばれる概念がある。オブジェクト指向では、拡張元のクラスを**スーパークラス**(親クラス)、拡張先のクラスを**サブクラス**(子クラス)と呼ぶ。Rubyで継承をする場合は、```class 子 < 親```と記述する。継承を行うと、親クラスのすべてのpublicフィールド・メソッド(public, privateに関しては、6.1参照)にアクセスすることが出来る。下記の例では、スーパークラス*Person*の*@name*のgetterメソッドは、サブクラス*Programmer*では、再定義をする必要がない(**再利用性**)。一方コンストラクタ・*greet*メソッドは、再定義がされている。サブクラスで親クラスのメソッドを再定義(上書き)することを**メソッドのオーバーライド**と呼ぶ。オーバライド先のメソッドでは、**super**キーワードを使うことでスーパークラスのメソッドを呼び出すことが出来る。"
   ]
  },
  {
   "cell_type": "code",
   "execution_count": 1,
   "metadata": {
    "collapsed": false
   },
   "outputs": [
    {
     "data": {
      "text/plain": [
       ":greet"
      ]
     },
     "execution_count": 1,
     "metadata": {},
     "output_type": "execute_result"
    }
   ],
   "source": [
    "class Person\n",
    "    attr_reader :name\n",
    "  \n",
    "    def initialize(name)\n",
    "        @name = name\n",
    "    end\n",
    "    \n",
    "    def greet\n",
    "        \"I am #{@name}.\"\n",
    "    end\n",
    "end"
   ]
  },
  {
   "cell_type": "code",
   "execution_count": 2,
   "metadata": {
    "collapsed": false
   },
   "outputs": [
    {
     "data": {
      "text/plain": [
       ":greet"
      ]
     },
     "execution_count": 2,
     "metadata": {},
     "output_type": "execute_result"
    }
   ],
   "source": [
    "class Programmer < Person # Programmer(サブクラス) < Person(スーパークラス)\n",
    "    attr_reader :language\n",
    "    \n",
    "    def initialize(name, language) # コンストラクタのオーバーライド\n",
    "      super(name) # スーパークラスのコンストラクタを呼び出している。(@nameフィールドの初期化)\n",
    "      @language = language\n",
    "    end\n",
    "    \n",
    "  def greet # greetのオーバーライド\n",
    "      \"#{super} I use #{@language}.\" # スーパークラスのgreetを呼び出している。\n",
    "  end\n",
    "end"
   ]
  },
  {
   "cell_type": "code",
   "execution_count": 3,
   "metadata": {
    "collapsed": false
   },
   "outputs": [
    {
     "data": {
      "text/plain": [
       "#<Person:0x005588e6658640 @name=\"John\">"
      ]
     },
     "execution_count": 3,
     "metadata": {},
     "output_type": "execute_result"
    }
   ],
   "source": [
    "john = Person.new(\"John\")"
   ]
  },
  {
   "cell_type": "code",
   "execution_count": 4,
   "metadata": {
    "collapsed": false
   },
   "outputs": [
    {
     "data": {
      "text/plain": [
       "#<Programmer:0x005588e6593340 @name=\"Mike\", @language=\"Ruby\">"
      ]
     },
     "execution_count": 4,
     "metadata": {},
     "output_type": "execute_result"
    }
   ],
   "source": [
    "mike = Programmer.new(\"Mike\", \"Ruby\")"
   ]
  },
  {
   "cell_type": "markdown",
   "metadata": {},
   "source": [
    "## 多態性(Polymorphism)\n",
    "\n",
    "ある２つのクラスが継承関係にあるとき、この関係を**IS-Aの関係**と呼ぶ。つまり、```子 is a 親```が成り立つ(逆は成り立たない)。この関係が成り立つとき、すべてのインスタンスに対して、親クラスの振る舞い(メソッド呼び出し)が保証される。下記の例では、*Person*クラスと*Programmer*クラスのインスタンスの配列すべてに対して、Personクラスの振る舞い(*greet*・*name*メソッド)が保証される。"
   ]
  },
  {
   "cell_type": "markdown",
   "metadata": {},
   "source": [
    "IS-Aの関係が成り立つので、下記の配列は、Personの配列(persons)であるとみなせる。"
   ]
  },
  {
   "cell_type": "code",
   "execution_count": 5,
   "metadata": {
    "collapsed": false
   },
   "outputs": [
    {
     "data": {
      "text/plain": [
       "[#<Person:0x005588e653be38 @name=\"John\">, #<Programmer:0x005588e653bdc0 @name=\"Mike\", @language=\"Ruby\">]"
      ]
     },
     "execution_count": 5,
     "metadata": {},
     "output_type": "execute_result"
    }
   ],
   "source": [
    "persons = [Person.new(\"John\"), Programmer.new(\"Mike\", \"Ruby\")]"
   ]
  },
  {
   "cell_type": "code",
   "execution_count": 6,
   "metadata": {
    "collapsed": false
   },
   "outputs": [
    {
     "data": {
      "text/plain": [
       "[\"I am John.\", \"I am Mike. I use Ruby.\"]"
      ]
     },
     "execution_count": 6,
     "metadata": {},
     "output_type": "execute_result"
    }
   ],
   "source": [
    "persons.map{|person| person.greet}"
   ]
  },
  {
   "cell_type": "code",
   "execution_count": 7,
   "metadata": {
    "collapsed": false
   },
   "outputs": [
    {
     "data": {
      "text/plain": [
       "[\"John\", \"Mike\"]"
      ]
     },
     "execution_count": 7,
     "metadata": {},
     "output_type": "execute_result"
    }
   ],
   "source": [
    "persons.map{|person| person.name}"
   ]
  },
  {
   "cell_type": "markdown",
   "metadata": {},
   "source": [
    "*Person is a Programer*は、成り立たないので、languageメソッドは保証されない。"
   ]
  },
  {
   "cell_type": "code",
   "execution_count": 8,
   "metadata": {
    "collapsed": false
   },
   "outputs": [
    {
     "ename": "NoMethodError",
     "evalue": "undefined method `language' for #<Person:0x005588e653be38 @name=\"John\">",
     "output_type": "error",
     "traceback": [
      "\u001b[31mNoMethodError\u001b[0m: undefined method `language' for #<Person:0x005588e653be38 @name=\"John\">",
      "\u001b[37m<main>:in `block in <main>'\u001b[0m",
      "\u001b[37m<main>:in `map'\u001b[0m",
      "\u001b[37m<main>:in `<main>'\u001b[0m",
      "\u001b[37m/usr/local/bundle/gems/iruby-0.2.9/lib/iruby/backend.rb:44:in `eval'\u001b[0m",
      "\u001b[37m/usr/local/bundle/gems/iruby-0.2.9/lib/iruby/backend.rb:44:in `eval'\u001b[0m",
      "\u001b[37m/usr/local/bundle/gems/iruby-0.2.9/lib/iruby/backend.rb:12:in `eval'\u001b[0m",
      "\u001b[37m/usr/local/bundle/gems/iruby-0.2.9/lib/iruby/kernel.rb:87:in `execute_request'\u001b[0m",
      "\u001b[37m/usr/local/bundle/gems/iruby-0.2.9/lib/iruby/kernel.rb:47:in `dispatch'\u001b[0m",
      "\u001b[37m/usr/local/bundle/gems/iruby-0.2.9/lib/iruby/kernel.rb:37:in `run'\u001b[0m",
      "\u001b[37m/usr/local/bundle/gems/iruby-0.2.9/lib/iruby/command.rb:70:in `run_kernel'\u001b[0m",
      "\u001b[37m/usr/local/bundle/gems/iruby-0.2.9/lib/iruby/command.rb:34:in `run'\u001b[0m",
      "\u001b[37m/usr/local/bundle/gems/iruby-0.2.9/bin/iruby:5:in `<top (required)>'\u001b[0m",
      "\u001b[37m/usr/local/bundle/bin/iruby:23:in `load'\u001b[0m",
      "\u001b[37m/usr/local/bundle/bin/iruby:23:in `<main>'\u001b[0m"
     ]
    }
   ],
   "source": [
    "persons.map{|person| person.language}"
   ]
  },
  {
   "cell_type": "markdown",
   "metadata": {},
   "source": [
    "上記の例では、greetメソッドを呼び出している。このとき、インスタンス(クラス)によって振る舞いが異なる。このように、実行される処理の実体が、コールされたメッセージ(メソッド)ではなく、メッセージを受けたオブジェクト(レシーバ)によって異なる性質のことを**多態性(Polymorphism、 多相性、多型性とも)**と呼ぶ。"
   ]
  },
  {
   "cell_type": "markdown",
   "metadata": {},
   "source": [
    "## ダック・タイピング\n",
    "前節では、継承による多層性を説明した。オブジェクト指向(を利用した言語)では、他にも様々な仕組みを利用して多層性を利用することができる。例えばコード上で厳密に型を定義し、コンパイラでチェックするような(静的型付け)言語では、IS-A関係が成り立つような型にしなければ、配列の型はルートクラス(Objectクラス)となってしまう。\n",
    "\n",
    "```java\n",
    "List<Person> person = Arrays.asList(new Person(\"John\"), new Programmer(\"Mike\", \"C\"));\n",
    "List<Object> foo = Arrays.asList(new Person(\"John\"), new Programmer(\"Mike\", \"C\"), new Dog(\"Toby\"));\n",
    "```\n",
    "\n",
    "結果、使いたいメソッドの保証がされなくなってしまう(もちろんJavaを始め、オブジェクト指向をサポートする言語では、別な回避策がある)。Rubyでは、動的型付けのため、型よりも振る舞いを重視する。つまり、**同じインタフェース(メソッド)を実装するオブジェクト同士が、それぞれがどのような継承階層を持っているのかということと無関係に、相互に交換可能である**。このような性質を**ダック・タイピング**と呼ぶ。この名前は、[ダックテスト](https://ja.wikipedia.org/wiki/ダック・テスト)に由来する。\n",
    "\n",
    "```\n",
    "\"If it walks like a duck and quacks like a duck, it must be a duck\"\n",
    "（もしもそれがアヒルのように歩き、アヒルのように鳴くのなら、それはアヒルである）\n",
    "```\n",
    "\n",
    "以下に、ダック・タイピングを利用した多態性の例を紹介する。"
   ]
  },
  {
   "cell_type": "code",
   "execution_count": 9,
   "metadata": {
    "collapsed": false
   },
   "outputs": [
    {
     "data": {
      "text/plain": [
       ":greet"
      ]
     },
     "execution_count": 9,
     "metadata": {},
     "output_type": "execute_result"
    }
   ],
   "source": [
    "class Dog # Dog is not a Person.\n",
    "  def initialize(name)\n",
    "    @name = name\n",
    "  end\n",
    "  \n",
    "  def greet # but Dog can greet.\n",
    "    \"bow-wow!\"\n",
    "  end\n",
    "end"
   ]
  },
  {
   "cell_type": "markdown",
   "metadata": {},
   "source": [
    "Dogを含めた配列は、personsではなく、振る舞いを重視し、挨拶集団(greeter)とするべきである。"
   ]
  },
  {
   "cell_type": "code",
   "execution_count": 10,
   "metadata": {
    "collapsed": true
   },
   "outputs": [],
   "source": [
    "# persons.push(Dog.new(\"Toby\")) Dogは、Person or Programmer?"
   ]
  },
  {
   "cell_type": "code",
   "execution_count": 11,
   "metadata": {
    "collapsed": false
   },
   "outputs": [
    {
     "data": {
      "text/plain": [
       "[#<Person:0x005588e63a3af8 @name=\"John\">, #<Programmer:0x005588e63a3a30 @name=\"Mike\", @language=\"Ruby\">, #<Dog:0x005588e63a3968 @name=\"Toby\">]"
      ]
     },
     "execution_count": 11,
     "metadata": {},
     "output_type": "execute_result"
    }
   ],
   "source": [
    "greeters = [Person.new(\"John\"), Programmer.new(\"Mike\", \"Ruby\"), Dog.new(\"Toby\")]"
   ]
  },
  {
   "cell_type": "code",
   "execution_count": 12,
   "metadata": {
    "collapsed": false
   },
   "outputs": [
    {
     "data": {
      "text/plain": [
       "[\"I am John.\", \"I am Mike. I use Ruby.\", \"bow-wow!\"]"
      ]
     },
     "execution_count": 12,
     "metadata": {},
     "output_type": "execute_result"
    }
   ],
   "source": [
    "greeters.map{|greeter| greeter.greet} # 挨拶が可能なら挨拶者!"
   ]
  },
  {
   "cell_type": "markdown",
   "metadata": {},
   "source": [
    "## 演習\n",
    "\n",
    "Immutableなコレクションクラス、ImQueueを実装せよ。Queueについては、ImStackや[wiki](https://ja.wikipedia.org/wiki/キュー_(コンピュータ)等を参考にせよ。今回メソッドは、push(enqueue), pop(dequeue)のみを実装すれば良い。"
   ]
  },
  {
   "cell_type": "code",
   "execution_count": 13,
   "metadata": {
    "collapsed": false
   },
   "outputs": [
    {
     "data": {
      "text/plain": [
       ":pop"
      ]
     },
     "execution_count": 13,
     "metadata": {},
     "output_type": "execute_result"
    }
   ],
   "source": [
    "class ImStack\n",
    "  attr_accessor :stack\n",
    "  def initialize(stack=[])\n",
    "    @stack = stack.freeze\n",
    "  end\n",
    "    \n",
    "  def push(v)\n",
    "    ImStack.new(@stack.dup.concat([v]))\n",
    "  end\n",
    "    \n",
    "  def pop\n",
    "    ImStack.new(@stack[0..-2])\n",
    "  end\n",
    "end"
   ]
  },
  {
   "cell_type": "code",
   "execution_count": 14,
   "metadata": {
    "collapsed": false
   },
   "outputs": [
    {
     "data": {
      "text/plain": [
       "#<ImStack:0x005588e6340570 @stack=[0, 1, 2, 3, 4]>"
      ]
     },
     "execution_count": 14,
     "metadata": {},
     "output_type": "execute_result"
    }
   ],
   "source": [
    "stack = (0..4).reduce(ImStack.new){|stack, n| stack.push(n)}"
   ]
  },
  {
   "cell_type": "code",
   "execution_count": 15,
   "metadata": {
    "collapsed": false
   },
   "outputs": [
    {
     "ename": "NameError",
     "evalue": "uninitialized constant ImQueue",
     "output_type": "error",
     "traceback": [
      "\u001b[31mNameError\u001b[0m: uninitialized constant ImQueue",
      "\u001b[37m<main>:in `<main>'\u001b[0m",
      "\u001b[37m/usr/local/bundle/gems/iruby-0.2.9/lib/iruby/backend.rb:44:in `eval'\u001b[0m",
      "\u001b[37m/usr/local/bundle/gems/iruby-0.2.9/lib/iruby/backend.rb:44:in `eval'\u001b[0m",
      "\u001b[37m/usr/local/bundle/gems/iruby-0.2.9/lib/iruby/backend.rb:12:in `eval'\u001b[0m",
      "\u001b[37m/usr/local/bundle/gems/iruby-0.2.9/lib/iruby/kernel.rb:87:in `execute_request'\u001b[0m",
      "\u001b[37m/usr/local/bundle/gems/iruby-0.2.9/lib/iruby/kernel.rb:47:in `dispatch'\u001b[0m",
      "\u001b[37m/usr/local/bundle/gems/iruby-0.2.9/lib/iruby/kernel.rb:37:in `run'\u001b[0m",
      "\u001b[37m/usr/local/bundle/gems/iruby-0.2.9/lib/iruby/command.rb:70:in `run_kernel'\u001b[0m",
      "\u001b[37m/usr/local/bundle/gems/iruby-0.2.9/lib/iruby/command.rb:34:in `run'\u001b[0m",
      "\u001b[37m/usr/local/bundle/gems/iruby-0.2.9/bin/iruby:5:in `<top (required)>'\u001b[0m",
      "\u001b[37m/usr/local/bundle/bin/iruby:23:in `load'\u001b[0m",
      "\u001b[37m/usr/local/bundle/bin/iruby:23:in `<main>'\u001b[0m"
     ]
    }
   ],
   "source": [
    "queue = (0..4).reduce(ImQueue.new){|queue, n| queue.push(n)}"
   ]
  },
  {
   "cell_type": "code",
   "execution_count": 16,
   "metadata": {
    "collapsed": false
   },
   "outputs": [
    {
     "data": {
      "text/plain": [
       "#<ImStack:0x005588e60df470 @stack=[0, 1, 2]>"
      ]
     },
     "execution_count": 16,
     "metadata": {},
     "output_type": "execute_result"
    }
   ],
   "source": [
    "stack.pop.pop"
   ]
  },
  {
   "cell_type": "code",
   "execution_count": 17,
   "metadata": {
    "collapsed": false
   },
   "outputs": [
    {
     "ename": "NoMethodError",
     "evalue": "undefined method `pop' for nil:NilClass",
     "output_type": "error",
     "traceback": [
      "\u001b[31mNoMethodError\u001b[0m: undefined method `pop' for nil:NilClass",
      "\u001b[37m<main>:in `<main>'\u001b[0m",
      "\u001b[37m/usr/local/bundle/gems/iruby-0.2.9/lib/iruby/backend.rb:44:in `eval'\u001b[0m",
      "\u001b[37m/usr/local/bundle/gems/iruby-0.2.9/lib/iruby/backend.rb:44:in `eval'\u001b[0m",
      "\u001b[37m/usr/local/bundle/gems/iruby-0.2.9/lib/iruby/backend.rb:12:in `eval'\u001b[0m",
      "\u001b[37m/usr/local/bundle/gems/iruby-0.2.9/lib/iruby/kernel.rb:87:in `execute_request'\u001b[0m",
      "\u001b[37m/usr/local/bundle/gems/iruby-0.2.9/lib/iruby/kernel.rb:47:in `dispatch'\u001b[0m",
      "\u001b[37m/usr/local/bundle/gems/iruby-0.2.9/lib/iruby/kernel.rb:37:in `run'\u001b[0m",
      "\u001b[37m/usr/local/bundle/gems/iruby-0.2.9/lib/iruby/command.rb:70:in `run_kernel'\u001b[0m",
      "\u001b[37m/usr/local/bundle/gems/iruby-0.2.9/lib/iruby/command.rb:34:in `run'\u001b[0m",
      "\u001b[37m/usr/local/bundle/gems/iruby-0.2.9/bin/iruby:5:in `<top (required)>'\u001b[0m",
      "\u001b[37m/usr/local/bundle/bin/iruby:23:in `load'\u001b[0m",
      "\u001b[37m/usr/local/bundle/bin/iruby:23:in `<main>'\u001b[0m"
     ]
    }
   ],
   "source": [
    "queue.pop.pop"
   ]
  },
  {
   "cell_type": "markdown",
   "metadata": {},
   "source": [
    "さらに、ダックタイピングを利用して、下記のコードを簡潔に書き直せ。"
   ]
  },
  {
   "cell_type": "code",
   "execution_count": 18,
   "metadata": {
    "collapsed": false
   },
   "outputs": [
    {
     "ename": "NameError",
     "evalue": "uninitialized constant ImQueue",
     "output_type": "error",
     "traceback": [
      "\u001b[31mNameError\u001b[0m: uninitialized constant ImQueue",
      "\u001b[37m<main>:in `<main>'\u001b[0m",
      "\u001b[37m/usr/local/bundle/gems/iruby-0.2.9/lib/iruby/backend.rb:44:in `eval'\u001b[0m",
      "\u001b[37m/usr/local/bundle/gems/iruby-0.2.9/lib/iruby/backend.rb:44:in `eval'\u001b[0m",
      "\u001b[37m/usr/local/bundle/gems/iruby-0.2.9/lib/iruby/backend.rb:12:in `eval'\u001b[0m",
      "\u001b[37m/usr/local/bundle/gems/iruby-0.2.9/lib/iruby/kernel.rb:87:in `execute_request'\u001b[0m",
      "\u001b[37m/usr/local/bundle/gems/iruby-0.2.9/lib/iruby/kernel.rb:47:in `dispatch'\u001b[0m",
      "\u001b[37m/usr/local/bundle/gems/iruby-0.2.9/lib/iruby/kernel.rb:37:in `run'\u001b[0m",
      "\u001b[37m/usr/local/bundle/gems/iruby-0.2.9/lib/iruby/command.rb:70:in `run_kernel'\u001b[0m",
      "\u001b[37m/usr/local/bundle/gems/iruby-0.2.9/lib/iruby/command.rb:34:in `run'\u001b[0m",
      "\u001b[37m/usr/local/bundle/gems/iruby-0.2.9/bin/iruby:5:in `<top (required)>'\u001b[0m",
      "\u001b[37m/usr/local/bundle/bin/iruby:23:in `load'\u001b[0m",
      "\u001b[37m/usr/local/bundle/bin/iruby:23:in `<main>'\u001b[0m"
     ]
    }
   ],
   "source": [
    "(0..4).reduce([ImStack.new, ImQueue.new]){|sq, n| [sq[0].push(n), sq[1].push(n)]}"
   ]
  },
  {
   "cell_type": "markdown",
   "metadata": {},
   "source": [
    "## 継承よりコンポジションを選ぶ\n",
    "\n",
    "継承はコードを再利用をするための強力な機能である。しかし、常に再利用性のための最善の手段ではない。継承の代替案として、コンポジションがある。継承がIS-Aの関係であることに対して、コンポジションは**HAS-Aの関係**(6.1)を指す。本章の例では、*ImStack*・*ImQueue*が*Array*を持っている(隠蔽している)。例えば*Programmer*クラスは、コンポジションを利用することで、以下のように書き換えることが出来る。"
   ]
  },
  {
   "cell_type": "markdown",
   "metadata": {},
   "source": [
    "*Programmer* 再掲\n",
    "\n",
    "```ruby\n",
    "class Programmer < Person \n",
    "    attr_reader :language\n",
    "    \n",
    "    def initialize(name, language) \n",
    "      super(name)\n",
    "      @language = language\n",
    "    end\n",
    "    \n",
    "  def greet \n",
    "      \"#{super} I use #{@language}.\" \n",
    "  end\n",
    "end\n",
    "```"
   ]
  },
  {
   "cell_type": "code",
   "execution_count": 19,
   "metadata": {
    "collapsed": false
   },
   "outputs": [
    {
     "data": {
      "text/plain": [
       ":greet"
      ]
     },
     "execution_count": 19,
     "metadata": {},
     "output_type": "execute_result"
    }
   ],
   "source": [
    "class CompProgrammer\n",
    "  attr_reader :language\n",
    "    \n",
    "  def initialize(name, language)\n",
    "    @person = Person.new(name) # Personを持つ。\n",
    "    @language = language\n",
    "  end\n",
    "  \n",
    "  def name # 他のオブジェクトのメソッドを呼び出し、任せることを委譲(delegation)と呼ぶ。\n",
    "    @person.name\n",
    "  end\n",
    "  \n",
    "  def greet\n",
    "    \"#{@person.greet} I use #{@language}.\"\n",
    "  end\n",
    "end"
   ]
  },
  {
   "cell_type": "code",
   "execution_count": 20,
   "metadata": {
    "collapsed": false
   },
   "outputs": [
    {
     "data": {
      "text/plain": [
       "\"I am Mike. I use Ruby.\""
      ]
     },
     "execution_count": 20,
     "metadata": {},
     "output_type": "execute_result"
    }
   ],
   "source": [
    "CompProgrammer.new(\"Mike\", \"Ruby\").greet"
   ]
  },
  {
   "cell_type": "markdown",
   "metadata": {},
   "source": [
    "コンポジションに比べ、**継承はカプセル化を破る**。言い換えれば、サブクラスは適切に機能するために、スーパークラスの実装に依存する。具体例のために、以下に集合を表すクラス*MySet*と要素の挿入回数をカウントするクラス*CountedSet*を実装する。"
   ]
  },
  {
   "cell_type": "code",
   "execution_count": 21,
   "metadata": {
    "collapsed": false
   },
   "outputs": [
    {
     "data": {
      "text/plain": [
       ":addAll"
      ]
     },
     "execution_count": 21,
     "metadata": {},
     "output_type": "execute_result"
    }
   ],
   "source": [
    "class MySet\n",
    "  attr_reader :array\n",
    "  \n",
    "  def initialize\n",
    "    @array = []\n",
    "  end\n",
    "  \n",
    "  def add(v)\n",
    "    unless @array.include?(v)\n",
    "      @array.push(v)\n",
    "    end\n",
    "  end\n",
    "  \n",
    "  def addAll(values)\n",
    "    values.each{|v| add(v)}\n",
    "  end\n",
    "end"
   ]
  },
  {
   "cell_type": "code",
   "execution_count": 22,
   "metadata": {
    "collapsed": false
   },
   "outputs": [
    {
     "data": {
      "text/plain": [
       "#<MySet:0x005588e5f12228 @array=[]>"
      ]
     },
     "execution_count": 22,
     "metadata": {},
     "output_type": "execute_result"
    }
   ],
   "source": [
    "set = MySet.new"
   ]
  },
  {
   "cell_type": "code",
   "execution_count": 23,
   "metadata": {
    "collapsed": false
   },
   "outputs": [
    {
     "data": {
      "text/plain": [
       "[1, 1, 2, 3, 3, 4]"
      ]
     },
     "execution_count": 23,
     "metadata": {},
     "output_type": "execute_result"
    }
   ],
   "source": [
    "set.addAll([1, 1, 2, 3, 3, 4])"
   ]
  },
  {
   "cell_type": "code",
   "execution_count": 24,
   "metadata": {
    "collapsed": false
   },
   "outputs": [
    {
     "data": {
      "text/plain": [
       "[1, 2, 3, 4]"
      ]
     },
     "execution_count": 24,
     "metadata": {},
     "output_type": "execute_result"
    }
   ],
   "source": [
    "set.array"
   ]
  },
  {
   "cell_type": "code",
   "execution_count": 25,
   "metadata": {
    "collapsed": false
   },
   "outputs": [
    {
     "data": {
      "text/plain": [
       ":addAll"
      ]
     },
     "execution_count": 25,
     "metadata": {},
     "output_type": "execute_result"
    }
   ],
   "source": [
    "class CountedSet < MySet\n",
    "  attr_reader :count\n",
    "  \n",
    "  def initialize\n",
    "    super\n",
    "    @count = 0\n",
    "  end\n",
    "  \n",
    "  def add(v)\n",
    "    super(v)\n",
    "    @count += 1\n",
    "  end\n",
    "  \n",
    "  def addAll(values)\n",
    "    super(values)\n",
    "    @count += values.length\n",
    "  end\n",
    "end"
   ]
  },
  {
   "cell_type": "markdown",
   "metadata": {},
   "source": [
    "一見すると正常に動作しているかのように見える。"
   ]
  },
  {
   "cell_type": "code",
   "execution_count": 26,
   "metadata": {
    "collapsed": false
   },
   "outputs": [
    {
     "data": {
      "text/plain": [
       "#<CountedSet:0x005588e5ce8150 @array=[], @count=0>"
      ]
     },
     "execution_count": 26,
     "metadata": {},
     "output_type": "execute_result"
    }
   ],
   "source": [
    "cset = CountedSet.new"
   ]
  },
  {
   "cell_type": "code",
   "execution_count": 27,
   "metadata": {
    "collapsed": false
   },
   "outputs": [
    {
     "data": {
      "text/plain": [
       "1"
      ]
     },
     "execution_count": 27,
     "metadata": {},
     "output_type": "execute_result"
    }
   ],
   "source": [
    "cset.add(1)"
   ]
  },
  {
   "cell_type": "code",
   "execution_count": 28,
   "metadata": {
    "collapsed": false
   },
   "outputs": [
    {
     "data": {
      "text/plain": [
       "2"
      ]
     },
     "execution_count": 28,
     "metadata": {},
     "output_type": "execute_result"
    }
   ],
   "source": [
    "cset.add(2)"
   ]
  },
  {
   "cell_type": "code",
   "execution_count": 29,
   "metadata": {
    "collapsed": false
   },
   "outputs": [
    {
     "data": {
      "text/plain": [
       "3"
      ]
     },
     "execution_count": 29,
     "metadata": {},
     "output_type": "execute_result"
    }
   ],
   "source": [
    "cset.add(1)"
   ]
  },
  {
   "cell_type": "code",
   "execution_count": 30,
   "metadata": {
    "collapsed": false
   },
   "outputs": [
    {
     "data": {
      "text/plain": [
       "4"
      ]
     },
     "execution_count": 30,
     "metadata": {},
     "output_type": "execute_result"
    }
   ],
   "source": [
    "cset.add(3)"
   ]
  },
  {
   "cell_type": "code",
   "execution_count": 31,
   "metadata": {
    "collapsed": false
   },
   "outputs": [
    {
     "data": {
      "text/plain": [
       "4"
      ]
     },
     "execution_count": 31,
     "metadata": {},
     "output_type": "execute_result"
    }
   ],
   "source": [
    "cset.count"
   ]
  },
  {
   "cell_type": "markdown",
   "metadata": {},
   "source": [
    "しかし、*addAll*メソッドでは、予期しない結果となってしまう。これは、addAllメソッドが、内部的に*add*メソッドを呼び出しているためであり。これが、スーパークラスの実装に依存してしまっている状態である。例えば、今回はaddAllメソッドをオーバーライドしないことで、この問題は回避することができる。しかし、MySetクラスのaddAllメソッドの実装がいつ変更されるかは、保証出来ないため、とても危険である。"
   ]
  },
  {
   "cell_type": "code",
   "execution_count": 32,
   "metadata": {
    "collapsed": false
   },
   "outputs": [
    {
     "data": {
      "text/plain": [
       "10"
      ]
     },
     "execution_count": 32,
     "metadata": {},
     "output_type": "execute_result"
    }
   ],
   "source": [
    "cset.addAll([4, 5, 6])"
   ]
  },
  {
   "cell_type": "markdown",
   "metadata": {},
   "source": [
    "MySetの例を通して継承の危険性を説明した。継承を実行できる条件は、スーパークラスの変更を追従可能な場合である。加えて、IS-Aが必ず成り立つかどうかも、大きなポイントなので抑えておきたい。Javaのプラットフォームライブラリには、この原則を破っているクラスがいくつか存在している。例えば、Stackは、Vectorを継承するべきではない(Stack is not a Vector)。"
   ]
  },
  {
   "cell_type": "markdown",
   "metadata": {},
   "source": [
    "## 演習\n",
    "CountedSetのソースコードをコンポジションを利用して、変更を加え、問題を解決せよ。"
   ]
  },
  {
   "cell_type": "markdown",
   "metadata": {},
   "source": [
    "## チェックポイント\n",
    "\n",
    "- 継承による利点は何か\n",
    "- ポリモーフィズム・ダックタイピングとは何か\n",
    "- 継承による注意点は何か"
   ]
  }
 ],
 "metadata": {
  "kernelspec": {
   "display_name": "Ruby 2.2.3",
   "language": "ruby",
   "name": "ruby"
  },
  "language_info": {
   "file_extension": ".rb",
   "mimetype": "application/x-ruby",
   "name": "ruby",
   "version": "2.2.3"
  }
 },
 "nbformat": 4,
 "nbformat_minor": 0
}

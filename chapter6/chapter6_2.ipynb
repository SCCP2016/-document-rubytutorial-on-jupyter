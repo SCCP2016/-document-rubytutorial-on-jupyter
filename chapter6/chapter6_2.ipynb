{
 "cells": [
  {
   "cell_type": "markdown",
   "metadata": {},
   "source": [
    "# 6.2 クラス変数とクラスメソッド\n",
    "\n",
    "ここまで説明していたフィールドは、インスタンス毎に持つ固有の状態で、別名**インスタンス変数**と呼ばれる。また、メソッドもインスタンスごとに振る舞い(処理・結果)が異なるためインスタンスメソッドと呼ぶ。一方、生成されたインスタンス全体で状態を共有し、固定された振る舞いをするものを、**クラス変数**・**クラスメソッド**と呼ぶ。これらの例を示すために、まず初めにインスタンス変数に、値段(*price*)を持った携帯端末(*MobilePhone*)クラスを考える。すると以下のように定義できる。"
   ]
  },
  {
   "cell_type": "code",
   "execution_count": 1,
   "metadata": {
    "collapsed": false
   },
   "outputs": [
    {
     "data": {
      "text/plain": [
       ":initialize"
      ]
     },
     "execution_count": 1,
     "metadata": {},
     "output_type": "execute_result"
    }
   ],
   "source": [
    "class MobilePhone\n",
    "    attr_reader :price\n",
    "    \n",
    "    def initialize(price)\n",
    "        @price = price\n",
    "    end\n",
    "end"
   ]
  },
  {
   "cell_type": "markdown",
   "metadata": {},
   "source": [
    "以下のように、MobilePhoneのインスタンスが複数存在したとする。"
   ]
  },
  {
   "cell_type": "code",
   "execution_count": 2,
   "metadata": {
    "collapsed": false
   },
   "outputs": [
    {
     "data": {
      "text/plain": [
       "[#<MobilePhone:0x007f157da10538 @price=50000>, #<MobilePhone:0x007f157da104c0 @price=70000>, #<MobilePhone:0x007f157da10498 @price=60000>]"
      ]
     },
     "execution_count": 2,
     "metadata": {},
     "output_type": "execute_result"
    }
   ],
   "source": [
    "mobile_phones = [MobilePhone.new(50000), MobilePhone.new(70000), MobilePhone.new(60000)]"
   ]
  },
  {
   "cell_type": "markdown",
   "metadata": {},
   "source": [
    "この場合、インスタンスの数を調べるには配列の長さを調べれば良い。"
   ]
  },
  {
   "cell_type": "code",
   "execution_count": 3,
   "metadata": {
    "collapsed": false
   },
   "outputs": [
    {
     "data": {
      "text/plain": [
       "3"
      ]
     },
     "execution_count": 3,
     "metadata": {},
     "output_type": "execute_result"
    }
   ],
   "source": [
    "num = mobile_phones.size"
   ]
  },
  {
   "cell_type": "markdown",
   "metadata": {},
   "source": [
    "合計値を求めたければ、*reduce*メソッドを使い、priceを参照しながら、計算処理をすれば良い。"
   ]
  },
  {
   "cell_type": "code",
   "execution_count": 4,
   "metadata": {
    "collapsed": false
   },
   "outputs": [
    {
     "data": {
      "text/plain": [
       "180000"
      ]
     },
     "execution_count": 4,
     "metadata": {},
     "output_type": "execute_result"
    }
   ],
   "source": [
    "sum = mobile_phones.reduce(0){|sum, mp| sum + mp.price } "
   ]
  },
  {
   "cell_type": "markdown",
   "metadata": {},
   "source": [
    "平均値を求めたければ、以下のように合計と総数を使い計算する。"
   ]
  },
  {
   "cell_type": "code",
   "execution_count": 5,
   "metadata": {
    "collapsed": false
   },
   "outputs": [
    {
     "data": {
      "text/plain": [
       "60000.0"
      ]
     },
     "execution_count": 5,
     "metadata": {},
     "output_type": "execute_result"
    }
   ],
   "source": [
    "mean = sum.to_f / num"
   ]
  },
  {
   "cell_type": "markdown",
   "metadata": {},
   "source": [
    "しかし、合計や平均を求めれるケースは、自分が記述している変数スコープ内に、インスタンスの参照が全て存在していなければならない。書き手が参照することの出来ないインスタンス内にMobilePhoneインスンタンスが存在する場合は、このような計算をすることが出来ない。\n",
    "\n",
    "そこで、クラス変数とクラスメソッドを用いる。具体的には、MobilePhoneの総数(*num*)と全てのMobilePhoneの値段の合計(*total_price*)をクラス変数に保持する。クラス変数は、変数名の先頭に@@ (アットマークアットマーク)を付け、accessorと同じ位置(メソッド外)に定義する。**クラスの外からクラス変数にアクセスすることは出来ない**ため、メソッドを用意する必要がある。**クラスメソッド**を用意すれば、インスタンスを生成せずともメソッドにアクセスすることが出来る。逆に**クラスメソッドでは、インスタンス変数を利用することは出来ない**。クラスメソッドを定義するには、メソッド名の前に*クラス名.* もしくは、 *self.* を付ける必要がある。"
   ]
  },
  {
   "cell_type": "code",
   "execution_count": 12,
   "metadata": {
    "collapsed": false
   },
   "outputs": [
    {
     "data": {
      "text/plain": [
       ":mean"
      ]
     },
     "execution_count": 12,
     "metadata": {},
     "output_type": "execute_result"
    }
   ],
   "source": [
    "class MobilePhone\n",
    "    attr_reader :price\n",
    "    @@num = 0\n",
    "    @@total_price = 0\n",
    "    \n",
    "    def initialize(price)\n",
    "        @price = price\n",
    "        # 総数や値段の合計は、インスタンス化時(コンストラクタ)に、増える。\n",
    "        @@num += 1\n",
    "        @@total_price += price\n",
    "    end\n",
    "    \n",
    "    # クラス変数numにアクセスするためのクラスメソッド。\n",
    "    def self.num\n",
    "        @@num\n",
    "    end\n",
    "    \n",
    "    # 平均値を出すためのクラスメソッド。\n",
    "    def self.mean\n",
    "        @@total_price.to_f / @@num \n",
    "    end\n",
    "end"
   ]
  },
  {
   "cell_type": "code",
   "execution_count": 7,
   "metadata": {
    "collapsed": false
   },
   "outputs": [
    {
     "data": {
      "text/plain": [
       "#<MobilePhone:0x007f157dd38af8 @price=50000>"
      ]
     },
     "execution_count": 7,
     "metadata": {},
     "output_type": "execute_result"
    }
   ],
   "source": [
    "mobile1 = MobilePhone.new(50000)"
   ]
  },
  {
   "cell_type": "code",
   "execution_count": 8,
   "metadata": {
    "collapsed": false
   },
   "outputs": [
    {
     "data": {
      "text/plain": [
       "#<MobilePhone:0x007f157dd4edf8 @price=70000>"
      ]
     },
     "execution_count": 8,
     "metadata": {},
     "output_type": "execute_result"
    }
   ],
   "source": [
    "mobile2 = MobilePhone.new(70000)"
   ]
  },
  {
   "cell_type": "code",
   "execution_count": 9,
   "metadata": {
    "collapsed": false
   },
   "outputs": [
    {
     "data": {
      "text/plain": [
       "#<MobilePhone:0x007f157dda42a8 @price=60000>"
      ]
     },
     "execution_count": 9,
     "metadata": {},
     "output_type": "execute_result"
    }
   ],
   "source": [
    "mobile3 = MobilePhone.new(60000)"
   ]
  },
  {
   "cell_type": "code",
   "execution_count": 10,
   "metadata": {
    "collapsed": false
   },
   "outputs": [
    {
     "data": {
      "text/plain": [
       "3"
      ]
     },
     "execution_count": 10,
     "metadata": {},
     "output_type": "execute_result"
    }
   ],
   "source": [
    "MobilePhone.num"
   ]
  },
  {
   "cell_type": "code",
   "execution_count": 11,
   "metadata": {
    "collapsed": false
   },
   "outputs": [
    {
     "data": {
      "text/plain": [
       "60000.0"
      ]
     },
     "execution_count": 11,
     "metadata": {},
     "output_type": "execute_result"
    }
   ],
   "source": [
    "MobilePhone.mean"
   ]
  },
  {
   "cell_type": "markdown",
   "metadata": {
    "collapsed": true
   },
   "source": [
    "## 演習"
   ]
  },
  {
   "cell_type": "markdown",
   "metadata": {},
   "source": [
    "上記で定義した*MobilePhone*クラスに、フィールド *width*, *depth* *height*を追加し、体積を求めるメソッド*volume*を定義せよ。また、任意のクラス変数を定義し、MobilePhone全体の体積の合計と平均を求めよ。"
   ]
  },
  {
   "cell_type": "markdown",
   "metadata": {},
   "source": [
    "## チェックポイント\n",
    "\n",
    "- インスタンス変数とクラス変数の違いを答えよ。\n",
    "- クラス変数は、クラスの外のスコープからアクセスすることは出来ない。どのようにアクセスする必要があるか？"
   ]
  }
 ],
 "metadata": {
  "kernelspec": {
   "display_name": "Ruby",
   "language": "ruby",
   "name": "ruby"
  },
  "language_info": {
   "file_extension": "rb",
   "mimetype": "text/ruby",
   "name": "ruby",
   "version": "2.2.2"
  }
 },
 "nbformat": 4,
 "nbformat_minor": 0
}

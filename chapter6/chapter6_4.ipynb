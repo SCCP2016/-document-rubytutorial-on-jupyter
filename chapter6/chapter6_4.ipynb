{
 "cells": [
  {
   "cell_type": "markdown",
   "metadata": {},
   "source": [
    "# 6.4 モジュール\n",
    "\n",
    "**モジュール**(module)は、クラスのように、メソッド・定数・クラス変数のグループに名前を付けたものである。モジュールはクラスと同じように定義されるが、classキーワードではなく、**module**キーワードが使われる。しかし、クラスとは異なり、モジュールはインスタンスを作ることはできないし、サブクラス化することもできない。モジュールは独立しており、継承の「モジュール階層」のようなものはない。モジュールは、名前空間として、またミックスインとして使われる。本章では、この２つの使い方を説明していく。"
   ]
  },
  {
   "cell_type": "markdown",
   "metadata": {},
   "source": [
    "## 名前空間としてのモジュール\n",
    "\n",
    "モジュールは、オブジェクト指向プログラミングが不要なときに、関連するメソッドをグループにまとめる方法として優れている。たとえば、数学のべき乗や三角関数を求める計算の計算結果は、引数のみに依存する。このように状態を取る必要がない処理にはオブジェクト指向をする必要がない。その場合は次のように、グローバルメソッドを定義すれば良い。"
   ]
  },
  {
   "cell_type": "code",
   "execution_count": 40,
   "metadata": {
    "collapsed": false
   },
   "outputs": [
    {
     "data": {
      "text/plain": [
       ":pow"
      ]
     },
     "execution_count": 40,
     "metadata": {},
     "output_type": "execute_result"
    }
   ],
   "source": [
    "module MyMath\n",
    "    PI = 3.14159265359\n",
    "    \n",
    "    def self.abs(n)\n",
    "        n < 0 ? -n : n\n",
    "    end\n",
    "    \n",
    "    def self.pow(x, n)\n",
    "        (1..n-1).reduce(x){|f, _| f * x}\n",
    "    end\n",
    "end"
   ]
  },
  {
   "cell_type": "markdown",
   "metadata": {},
   "source": [
    "モジュールを定義することで、インスタンス化すること無く、次のようにモジュールのメソッドを呼び出すことができる。"
   ]
  },
  {
   "cell_type": "code",
   "execution_count": 41,
   "metadata": {
    "collapsed": false
   },
   "outputs": [
    {
     "data": {
      "text/plain": [
       "4"
      ]
     },
     "execution_count": 41,
     "metadata": {},
     "output_type": "execute_result"
    }
   ],
   "source": [
    "MyMath.abs(-4)"
   ]
  },
  {
   "cell_type": "code",
   "execution_count": 42,
   "metadata": {
    "collapsed": false
   },
   "outputs": [
    {
     "data": {
      "text/plain": [
       "64"
      ]
     },
     "execution_count": 42,
     "metadata": {},
     "output_type": "execute_result"
    }
   ],
   "source": [
    "MyMath.pow(4, 3)"
   ]
  },
  {
   "cell_type": "markdown",
   "metadata": {},
   "source": [
    "モジュールでは、定数を定義することもできる。定数は接頭辞として、```モジュール名+(::)```を付けて、その後に定数名を付けることで呼び出すことが出来る。"
   ]
  },
  {
   "cell_type": "code",
   "execution_count": 44,
   "metadata": {
    "collapsed": false
   },
   "outputs": [
    {
     "data": {
      "text/plain": [
       "3.14159265359"
      ]
     },
     "execution_count": 44,
     "metadata": {},
     "output_type": "execute_result"
    }
   ],
   "source": [
    "MyMath::PI"
   ]
  },
  {
   "cell_type": "markdown",
   "metadata": {},
   "source": [
    "## ミックスインとしてのモジュール\n",
    "\n",
    "前章でRubyにおける継承を学んだ。Rubyを始め継承の概念を持つ多くの言語は、複数のスーパークラスを継承すること「**多重継承**」を許していない。多重継承を許さない理由として、ある子クラス*D*が複数のスーパークラス(*B*・*C*)が同一の親(*A*)を持ち(Rubyでは、ダックタイピングがあるため親を持たなくても良い)ある一つのメソッドをオーバーライドするとき、子クラス*D*がそのメソッドを呼出したとき、B・Cどちらのメソッドを呼び出すか曖昧になってしまうからである。この問題は、[菱形継承問題](https://ja.wikipedia.org/wiki/菱形継承問題)として一般に知られている。また、継承による階層構造が極端に複雑になってしまうという問題も抱えている。\n",
    "\n",
    "```ruby\n",
    "class Sub < Super1, Super2 # Rubyでは、シンタックスエラー。\n",
    "end\n",
    "```\n",
    "\n",
    "Rubyでは多重継承を擬似的に再現するために、モジュールによる**ミックスイン**(Mixin)を行う。ミックスインとは、クラスやモジュールに、モジュールをトッピングするような形で機能を追加していくことである。ミックスインは、継承と違いモジュールをいくつでも合成することが出来る。菱形継承問題は、**階層構造を線形化**することで解決している。線形化については後で説明をする。以下にモジュールのミックスインの例を示す。"
   ]
  },
  {
   "cell_type": "code",
   "execution_count": 7,
   "metadata": {
    "collapsed": false
   },
   "outputs": [
    {
     "data": {
      "text/plain": [
       "MyStack"
      ]
     },
     "execution_count": 7,
     "metadata": {},
     "output_type": "execute_result"
    }
   ],
   "source": [
    "class BasicStack\n",
    "  attr_reader :stack\n",
    "\n",
    "  def initialize(stack=[])\n",
    "    @stack = stack.freeze\n",
    "  end\n",
    "\n",
    "  def push(v)\n",
    "    self.class.new(@stack.dup.concat([v]))\n",
    "  end\n",
    "\n",
    "  def pop\n",
    "    self.class.new(@stack[0..-2])\n",
    "  end\n",
    "end\n",
    "\n",
    "module Doubling\n",
    "  def push(v)\n",
    "    super(v * 2)\n",
    "  end\n",
    "end\n",
    "\n",
    "module PlusTwo\n",
    "  def push(v)\n",
    "    super(v + 2)\n",
    "  end\n",
    "end\n",
    "\n",
    "class MyStack < BasicStack\n",
    "  include PlusTwo\n",
    "  include Doubling\n",
    "end"
   ]
  },
  {
   "cell_type": "markdown",
   "metadata": {},
   "source": [
    "ミックスインを行わない*BasicStack*クラス。"
   ]
  },
  {
   "cell_type": "code",
   "execution_count": 8,
   "metadata": {
    "collapsed": false
   },
   "outputs": [
    {
     "data": {
      "text/plain": [
       "#<BasicStack:0x0055a9ba2d2468 @stack=[1, 2, 3, 4]>"
      ]
     },
     "execution_count": 8,
     "metadata": {},
     "output_type": "execute_result"
    }
   ],
   "source": [
    "BasicStack.new.push(1).push(2).push(3).push(4)"
   ]
  },
  {
   "cell_type": "markdown",
   "metadata": {},
   "source": [
    "ミックスインを行った*MyStack*クラス。MyStackは、BasicStackの継承に加え、*PlusTwo*・*Doubling*クラスをミックスインしている。この場合の継承・ミックスインの階層構造は、最後にミックスインされたモジュールから最初のモジュールまで逆順。そして、スーパークラスという順番で線形に解決される。つまり、\n",
    "\n",
    "- MyStack::push     存在しないため、ミックスインモジュールを探索\n",
    "- Doubling::push    vを2倍、ミックスインモジュールを探索\n",
    "- PlugTwo::push     vをプラス2、ミックスインモジュールを探索 -> 存在しない為サブクラスを探索\n",
    "- BasicStack::push  @stackにvを格納、クラス(MyStack)をインスタンス化する。\n",
    "\n",
    "という順番で呼び出される。もし、*BasicStack*がpushメソッドを持たない場合は、さらにスーパークラスを探索し、最終的にmissing_method(エラー)を呼び出す。"
   ]
  },
  {
   "cell_type": "code",
   "execution_count": 9,
   "metadata": {
    "collapsed": false
   },
   "outputs": [
    {
     "data": {
      "text/plain": [
       "#<MyStack:0x0055a9ba277950 @stack=[4, 6, 0, 8, 10]>"
      ]
     },
     "execution_count": 9,
     "metadata": {},
     "output_type": "execute_result"
    }
   ],
   "source": [
    "MyStack.new.push(1).push(2).push(-1).push(3).push(4)"
   ]
  },
  {
   "cell_type": "markdown",
   "metadata": {},
   "source": [
    "クラスの継承・ミックスインの階層構造を確認するには、*ancestors*メソッドを呼び出す。"
   ]
  },
  {
   "cell_type": "code",
   "execution_count": 12,
   "metadata": {
    "collapsed": false
   },
   "outputs": [
    {
     "data": {
      "text/plain": [
       "[MyStack, Doubling, PlusTwo, BasicStack, Object, JSON::Ext::Generator::GeneratorMethods::Object, Kernel, BasicObject]"
      ]
     },
     "execution_count": 12,
     "metadata": {},
     "output_type": "execute_result"
    }
   ],
   "source": [
    "MyStack.ancestors"
   ]
  },
  {
   "cell_type": "markdown",
   "metadata": {},
   "source": [
    "ミックスインは、柔軟にクラスを拡張する手段である。ミックスイン機能を持った有名な言語は、Ruby・PHP・Scalaなどが存在する。ここまでに、クラスを拡張する方法を、いくつか紹介した。クラスの拡張を考える際は、以下のような順序で拡張を考えるのが一つので手である。\n",
    "\n",
    "- HAS-Aの関係でコンポジションを考える。\n",
    "- ミックスインでモジュールによる機能を追加を考える。\n",
    "- IS-Aの関係が成り立つのを確認してから、継承を考える。"
   ]
  },
  {
   "cell_type": "markdown",
   "metadata": {
    "collapsed": true
   },
   "source": [
    "## 演習\n",
    "\n",
    "- MyStackのミックスインの順序を変えて、挙動を確認せよ。\n",
    "- 負の値をスタックに格納しない(フィルタリング)、新しいモジュール*NegativeFilter*を加えて、ミックスインしろ。"
   ]
  },
  {
   "cell_type": "markdown",
   "metadata": {},
   "source": [
    "## チェックポイント\n",
    "\n",
    "- モジュールはどのような使い方があるか\n",
    "- 継承とミックスインの違いは何か"
   ]
  }
 ],
 "metadata": {
  "kernelspec": {
   "display_name": "Ruby 2.2.3",
   "language": "ruby",
   "name": "ruby"
  },
  "language_info": {
   "file_extension": ".rb",
   "mimetype": "application/x-ruby",
   "name": "ruby",
   "version": "2.2.3"
  }
 },
 "nbformat": 4,
 "nbformat_minor": 0
}

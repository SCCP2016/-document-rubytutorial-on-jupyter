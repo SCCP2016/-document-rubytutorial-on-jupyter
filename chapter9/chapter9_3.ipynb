{
 "cells": [
  {
   "cell_type": "markdown",
   "metadata": {},
   "source": [
    "## 9.3 ディレクトリ操作とコマンドライン引数\n",
    "\n",
    "### ディレクトリ操作\n",
    "\n",
    "ファイル操作をする際、ディレクトリ情報を読み取ってプログラミングができると非常に便利である。例えば、ユーザが指定した通りにディレクトリを作成する場合などはディレクトリ操作を駆使してプログラミングをすることになる。\n",
    "Rubyにはディレクトリ操作をするメソッドが標準でいくつか用意されている。\n",
    "\n",
    "```ruby\n",
    "# カレントディレクトリを取得する\n",
    "Dir::pwd\n",
    "#=> \"/Users/user/sccp\"\n",
    "\n",
    "# path直下のファイル一覧を取得する\n",
    "path = '/'\n",
    "Dir::entries(path)\n",
    "#=> [\".\", \"..\", \"user\"]\n",
    "\n",
    "# new_dirディレクトリを作成する\n",
    "new_dir = './new_directory'\n",
    "Dir::mkdir(new_dir)\n",
    "#=> 0 (ディレクトリが作成される)\n",
    "\n",
    "# dirディレクトリが存在するかを判定する\n",
    "dir = '/ruby/is/a/powerful/language'\n",
    "Dir::exists?(dir)\n",
    "#=> false\n",
    "```\n",
    "\n",
    "ディレクトリ操作のメソッドはその他にも用意されている。それらについては[Rubyの公式リファレンス](http://docs.ruby-lang.org/ja/1.9.3/class/Dir.html)を参照(バージョンの古いRubyだが、この内容は変わっていない)。\n",
    "\n",
    "### コマンドライン引数\n",
    "\n",
    "CUIツールにコマンドライン引数は不可欠と言える。コマンドライン引数とは、プログラムの実行時に渡す引数のことで、例えばcpコマンドにはコピー元のファイル名とコピー先のファイル名をコマンドライン引数で渡す。Rubyでコマンドライン引数を受け取るときには次のように記述する。\n",
    "\n",
    "```ruby\n",
    "# ruby app.rb ruby is a powerful language\n",
    "p ARGV\n",
    "#=> [\"ruby\", \"is\", \"a\", \"powerful\", \"language\"]\n",
    "```\n",
    "\n",
    "Cでコマンドライン引数を取得すると0番目の要素に実行するファイル名が含まれるが、RubyのARGVにはこれが含まれず、後ろにコマンドライン引数のみが取得できることに注意すること。\n",
    "\n",
    "### 演習問題\n",
    "\n",
    "9.2のconcat_filesを書き換えて、n+1個のコマンドライン引数\\[file0, file1, file2, ... , new_file\\]を受け取り、fileNの内容を先頭から連結してnew_fileを新規作成した上で書き込みなさい。ただし、new_fileと同じファイル名が存在した場合は警告を表示してfileNの内容を移さずに終了すること。ヒント：Dir::exists?はあくまでディレクトリの存在判定であることに注意して、ファイルが存在するのかを判定するexists_file?メソッドを作成しなさい。"
   ]
  }
 ],
 "metadata": {
  "kernelspec": {
   "display_name": "Ruby",
   "language": "ruby",
   "name": "ruby"
  },
  "language_info": {
   "file_extension": "rb",
   "mimetype": "text/ruby",
   "name": "ruby",
   "version": "2.2.2"
  }
 },
 "nbformat": 4,
 "nbformat_minor": 0
}

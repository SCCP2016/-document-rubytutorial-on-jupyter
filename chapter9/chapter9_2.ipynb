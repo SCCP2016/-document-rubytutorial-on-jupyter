{
 "cells": [
  {
   "cell_type": "markdown",
   "metadata": {},
   "source": [
    "## 9.2 ファイル入出力\n",
    "\n",
    "プログラム上でファイル入出力を行う際は次のような流れで行う。\n",
    "\n",
    "```shell\n",
    "1) ファイルオープン\n",
    "2) 内容読み出し、または書き込み\n",
    "3) ファイルクローズ\n",
    "```\n",
    "\n",
    "これに対応するRubyのメソッドはそれぞれ以下通り。\n",
    "\n",
    "```shell\n",
    "1) open(file_name, mode)\n",
    "2) read(), write(text)\n",
    "3) close()\n",
    "```\n",
    "\n",
    "では1) ~ 3)のメソッドを使って、テキストファイルのコピーをするメソッドを定義してみよう。\n",
    "\n",
    "```ruby\n",
    "def copy_file(from, to)\n",
    "    # 1)\n",
    "    origin = open(form, 'r')\n",
    "    new_file = open(to, 'w+')\n",
    "\n",
    "    # 2)\n",
    "    context = origin.read\n",
    "    new_file.write(context)\n",
    "\n",
    "    # 3)\n",
    "    origin.close\n",
    "    new_file.close\n",
    "end\n",
    "```\n",
    "\n",
    "openメソッドのmodeはファイルオープンの目的に応じて変える必要がある。\n",
    "\n",
    "- 'r'   読み込みモード\n",
    "- 'r+'  読み込み+書き込みモード\n",
    "- 'w'   新規作成+書き込みモード\n",
    "- 'w+'  新規作成+読み込み+書き込みモード\n",
    "- 'a'   追加書き込みモード\n",
    "- 'a+'  読み込み+追加書き込みモード\n",
    "\n",
    "wの新規作成は、openメソッドの引数に指定したファイル名のファイルが存在しなかった場合に空のファイルを新規作成するという意味である。\n",
    "\n",
    "### 演習問題\n",
    "複数のファイル名original_filesの内容を連結してnew_fileに書き込むメソッドconcat_filesを作成しなさい。new_fileとファイル名が同じファイルが存在する場合はその内容を保持して後ろに書き足すこと。\n",
    "\n",
    "```ruby\n",
    "concat_files(original_files, new_file)\n",
    "```"
   ]
  }
 ],
 "metadata": {
  "kernelspec": {
   "display_name": "Ruby",
   "language": "ruby",
   "name": "ruby"
  },
  "language_info": {
   "file_extension": "rb",
   "mimetype": "text/ruby",
   "name": "ruby",
   "version": "2.2.2"
  }
 },
 "nbformat": 4,
 "nbformat_minor": 0
}

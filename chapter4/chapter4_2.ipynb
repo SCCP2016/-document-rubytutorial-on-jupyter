{
 "cells": [
  {
   "cell_type": "markdown",
   "metadata": {},
   "source": [
    "## 4.2 ブロック付きメソッドとイテレータ\n",
    "\n",
    "これまでに、いくつかの配列のメソッドについて触れた。\n",
    "ここで配列のブロック付きメソッドとイテレータについて説明をする。\n",
    "\n",
    "ブロック付きメソッドとは、メソッドにブロック(処理)を与えるようにすることで、メソッドを利用するプログラマが特定の処理を自由に変更できるようにしたメソッドのことである。\n",
    "これを利用することでメソッドの抽象度が上がり、より多くの異なる処理を一つのメソッドが担うことができるので、似たようなコードを書く手間が省ける。その他に、下の例で登場するが、ループなどもメソッドで表現することができるようになる。このループ内で必要となるのがイテレータという概念である。イテレータは日本語で反復子とも呼ばれ、複数の値の集まりを順々に参照するためのものである。例えばfor式では、Range型のオブジェクトをイテレータによって数の小さいものから順々に取り出して制御用の変数に格納していた。\n",
    "\n",
    "以下はブロック付きメソッドとイテレータの例をfor式の例と比較したものである。"
   ]
  },
  {
   "cell_type": "code",
   "execution_count": 108,
   "metadata": {
    "collapsed": false
   },
   "outputs": [
    {
     "data": {
      "text/plain": [
       "[\"a\", \"b\", \"c\"]"
      ]
     },
     "execution_count": 108,
     "metadata": {},
     "output_type": "execute_result"
    }
   ],
   "source": [
    "arr = ['a', 'b', 'c']"
   ]
  },
  {
   "cell_type": "code",
   "execution_count": 109,
   "metadata": {
    "collapsed": false
   },
   "outputs": [
    {
     "name": "stdout",
     "output_type": "stream",
     "text": [
      "a b c "
     ]
    },
    {
     "data": {
      "text/plain": [
       "0..2"
      ]
     },
     "execution_count": 109,
     "metadata": {},
     "output_type": "execute_result"
    }
   ],
   "source": [
    "# for式の例(indexで要素を指定する書き方)\n",
    "for i in 0..(arr.size-1) do\n",
    "    print arr[i] + \" \"\n",
    "end"
   ]
  },
  {
   "cell_type": "code",
   "execution_count": 110,
   "metadata": {
    "collapsed": false
   },
   "outputs": [
    {
     "name": "stdout",
     "output_type": "stream",
     "text": [
      "a b c "
     ]
    },
    {
     "data": {
      "text/plain": [
       "[\"a\", \"b\", \"c\"]"
      ]
     },
     "execution_count": 110,
     "metadata": {},
     "output_type": "execute_result"
    }
   ],
   "source": [
    "# for式の例(foreach寄りの書き方)\n",
    "for item in arr do\n",
    "    print item + \" \"\n",
    "end"
   ]
  },
  {
   "cell_type": "code",
   "execution_count": 111,
   "metadata": {
    "collapsed": false
   },
   "outputs": [
    {
     "name": "stdout",
     "output_type": "stream",
     "text": [
      "a b c "
     ]
    },
    {
     "data": {
      "text/plain": [
       "[\"a\", \"b\", \"c\"]"
      ]
     },
     "execution_count": 111,
     "metadata": {},
     "output_type": "execute_result"
    }
   ],
   "source": [
    "# ブロック付きメソッドの例\n",
    "arr.each do |item|\n",
    "    print item + \" \"\n",
    "end"
   ]
  },
  {
   "cell_type": "markdown",
   "metadata": {},
   "source": [
    "ブロック付きメソッドを用いた例も見た目はfor式の構文と似ているように見えるが、構文としては全く違うものになっている。ブロック付きメソッドを用いた例は所謂 **関数型パラダイム** を持つ言語のような記法に近い。\n",
    "\n",
    "まず初めに配列は、**each**と言う名前のメソッドを呼び出している。\n",
    "eachメソッドは、ブロックを引数として受け取る。\n",
    "ブロックにあたるのが、**do**から**end**キーワードまでである。\n",
    "ブロックは引数を持つことができ、**|引数, …|**という形で書くことができる。\n",
    "引数は、イテレータにより配列の要素が一つ一つ送り込まれ、ブロックの中の文が評価される。\n",
    "図で書くと以下のような形だ。\n",
    "\n",
    "```ruby\n",
    "['a', 'b', 'c']\n",
    "['b', 'c']   ->  item = |\"a\"|  ->   print \"a\"\n",
    "['c']        ->  item = |\"b\"|  ->   print \"b\"\n",
    "[]           ->  item = |\"c\"|  ->   print \"c\"\n",
    "```"
   ]
  },
  {
   "cell_type": "markdown",
   "metadata": {},
   "source": [
    "配列の添字が必要なケースがある場合は、**each_with_index**メソッドを使おう。\n",
    "このメソッドはブロックの最初の引数が配列から来た値で、２つ目の引数が添字になっている。"
   ]
  },
  {
   "cell_type": "code",
   "execution_count": 112,
   "metadata": {
    "collapsed": false
   },
   "outputs": [
    {
     "name": "stdout",
     "output_type": "stream",
     "text": [
      "[\"a\", 0]\n",
      "[\"b\", 1]\n",
      "[\"c\", 2]\n"
     ]
    },
    {
     "data": {
      "text/plain": [
       "[\"a\", \"b\", \"c\"]"
      ]
     },
     "execution_count": 112,
     "metadata": {},
     "output_type": "execute_result"
    }
   ],
   "source": [
    "arr.each_with_index do |item, index|\n",
    "  p [item, index]\n",
    "end"
   ]
  },
  {
   "cell_type": "markdown",
   "metadata": {},
   "source": [
    "## 演習問題\n",
    "以下はfor式を使った（手続き型言語らしい）処理だが、これをeachを使った同様の処理に書き換えよ。"
   ]
  },
  {
   "cell_type": "code",
   "execution_count": 113,
   "metadata": {
    "collapsed": false
   },
   "outputs": [
    {
     "name": "stdout",
     "output_type": "stream",
     "text": [
      "a c e g i "
     ]
    },
    {
     "data": {
      "text/plain": [
       "0..9"
      ]
     },
     "execution_count": 113,
     "metadata": {},
     "output_type": "execute_result"
    }
   ],
   "source": [
    "arr = ['a','b','c','d','e','f','g','h','i','j']\n",
    "for i in 0..(arr.size-1) do\n",
    "    if i % 2 == 0 then\n",
    "        print arr[i] + \" \"\n",
    "    end\n",
    "end"
   ]
  },
  {
   "cell_type": "markdown",
   "metadata": {},
   "source": [
    "配列の各々の要素に対して何か処理を施して、その結果を再び配列としてまとめたい場合がある。\n",
    "そのときは**map**メソッドを使う。最後に評価された値が再び配列の要素となる。mapにも非破壊的メソッドと破壊的メソッドが存在するので適宜使い分けよう。"
   ]
  },
  {
   "cell_type": "code",
   "execution_count": 114,
   "metadata": {
    "collapsed": false
   },
   "outputs": [
    {
     "name": "stdout",
     "output_type": "stream",
     "text": [
      "[\"ABC\", \"DEF\", \"GHI\"]\n"
     ]
    },
    {
     "data": {
      "text/plain": [
       "[\"ABC\", \"DEF\", \"GHI\"]"
      ]
     },
     "execution_count": 114,
     "metadata": {},
     "output_type": "execute_result"
    }
   ],
   "source": [
    "arr = ['abc', 'def', 'ghi']\n",
    "capital_arr = arr.map do |item|\n",
    "  item.upcase\n",
    "end\n",
    "p capital_arr"
   ]
  },
  {
   "cell_type": "markdown",
   "metadata": {},
   "source": [
    "また、**do ~ end**の構文は波括弧で記述することもできる。"
   ]
  },
  {
   "cell_type": "code",
   "execution_count": 115,
   "metadata": {
    "collapsed": false
   },
   "outputs": [
    {
     "name": "stdout",
     "output_type": "stream",
     "text": [
      "[\"ABC\", \"DEF\", \"GHI\"]\n"
     ]
    },
    {
     "data": {
      "text/plain": [
       "[\"ABC\", \"DEF\", \"GHI\"]"
      ]
     },
     "execution_count": 115,
     "metadata": {},
     "output_type": "execute_result"
    }
   ],
   "source": [
    "arr = ['abc', 'def', 'ghi']\n",
    "p arr.map{|item| item.upcase}"
   ]
  },
  {
   "cell_type": "markdown",
   "metadata": {},
   "source": [
    "mapメソッドには引数としてブロック構文を渡すが、再利用が期待されるブロックは先に定義して変数に格納しておくことができ、これをプロシージャオブジェクトと呼ぶ。プロシージャオブジェクトをmapメソッドの引数として渡すには先頭に **&** を付けてやれば良いのだが、以下のようにプロシージャオブジェクトの代わりにメソッドを直接渡すことも可能である。"
   ]
  },
  {
   "cell_type": "code",
   "execution_count": 116,
   "metadata": {
    "collapsed": false
   },
   "outputs": [
    {
     "name": "stdout",
     "output_type": "stream",
     "text": [
      "[\"ABC\", \"DEF\", \"GHI\"]\n"
     ]
    },
    {
     "data": {
      "text/plain": [
       "[\"ABC\", \"DEF\", \"GHI\"]"
      ]
     },
     "execution_count": 116,
     "metadata": {},
     "output_type": "execute_result"
    }
   ],
   "source": [
    "arr = ['abc', 'def', 'ghi']\n",
    "p arr.map(&:upcase)"
   ]
  },
  {
   "cell_type": "markdown",
   "metadata": {},
   "source": [
    "全てのメソッドに **to_proc** メソッド（メソッドをプロシージャオブジェクトに変換するメソッド）が備わっているおかげでこのように書くことができる。mapメソッドに対してto_procメソッドを持つオブジェクトを渡すとmapメソッドの呼び出し時にto_procメソッドが実行されて自動的にプロシージャオブジェクトに変換されることによってこのような記述が可能なのである。"
   ]
  },
  {
   "cell_type": "markdown",
   "metadata": {},
   "source": [
    "## 演習問題\n",
    "1. 以下の整数の配列に対してFizzBuzz問題を解け。<br>**FizzBuzz** ... １から順に数を数えていき、3の倍数でFizz、5の倍数でBuzz、3と5の公倍数でFizzBuzzと言うゲーム。それ以外の数のときはその数をそのまま言う。\n",
    "2. fizzbuzz()関数を実装することによって、1で書いた処理をプロシージャオブジェクトの代わりに関数を渡すことに寄って最も簡略化された形に書き直せ。"
   ]
  },
  {
   "cell_type": "code",
   "execution_count": 117,
   "metadata": {
    "collapsed": false
   },
   "outputs": [
    {
     "data": {
      "text/plain": [
       "[nil, nil, nil, nil, nil, nil, nil, nil, nil, nil, nil, nil, nil, nil, nil, nil, nil, nil, nil, nil, nil, nil, nil, nil, nil, nil, nil, nil, nil, nil]"
      ]
     },
     "execution_count": 117,
     "metadata": {},
     "output_type": "execute_result"
    }
   ],
   "source": [
    "list = (1..30).to_a\n",
    "list.map{|item|\n",
    "    # ここに処理を書く\n",
    "}"
   ]
  },
  {
   "cell_type": "code",
   "execution_count": 118,
   "metadata": {
    "collapsed": false
   },
   "outputs": [
    {
     "data": {
      "text/plain": [
       "#<Enumerator: [1, 2, 3, 4, 5, 6, 7, 8, 9, 10, 11, 12, 13, 14, 15, 16, 17, 18, 19, 20, 21, 22, 23, 24, 25, 26, 27, 28, 29, 30]:map>"
      ]
     },
     "execution_count": 118,
     "metadata": {},
     "output_type": "execute_result"
    }
   ],
   "source": [
    "list = (1..30).to_a\n",
    "def fizzbuzz(n)\n",
    "    # ここに処理を書く\n",
    "end\n",
    "list.map()# "
   ]
  },
  {
   "cell_type": "markdown",
   "metadata": {},
   "source": [
    "\n",
    "mapメソッドの動きを分かりやすく図にすると以下の様な形になる。\n",
    "\n",
    "```ruby\n",
    "['abc', 'def', 'ghi']\n",
    "['def', 'ghi']   ->  item = |\"abc\"|  ->   ['ABC']\n",
    "['ghi']          ->  item = |\"def\"|  ->   ['ABC', 'DEF']\n",
    "[]               ->  item = |\"ghi\"|  ->   ['ABC', 'DEF', 'GHI']\n",
    "```"
   ]
  },
  {
   "cell_type": "markdown",
   "metadata": {},
   "source": [
    "最後に畳み込みを行う**inject**メソッドを紹介する。\n",
    "畳み込みとは、配列を順に見ていくときに、用意した値(初期値)に対して配列の要素を演算していく(畳み込んでいく)ことで、最終的に元の配列から一つの値を導く演算方法のことである。\n",
    "例えば、配列のすべての要素を足し込んで行く場合は以下のようになる。"
   ]
  },
  {
   "cell_type": "code",
   "execution_count": 119,
   "metadata": {
    "collapsed": false
   },
   "outputs": [
    {
     "name": "stdout",
     "output_type": "stream",
     "text": [
      "5050\n"
     ]
    },
    {
     "data": {
      "text/plain": [
       "5050"
      ]
     },
     "execution_count": 119,
     "metadata": {},
     "output_type": "execute_result"
    }
   ],
   "source": [
    "p (1..100).to_a.inject{|sum, n| sum + n}"
   ]
  },
  {
   "cell_type": "markdown",
   "metadata": {},
   "source": [
    "初期値のsumには畳み込み演算途中の各時点までの演算の結果値が格納され、nにはリストの値が先頭から順次格納されていく。injectの引数として渡したブロック内の演算がsumとnに対して適用され、その結果が次のsumの値となりそれが繰り返されていくことによって最終的に一つの値を導き出すことができるのである。"
   ]
  },
  {
   "cell_type": "markdown",
   "metadata": {},
   "source": [
    "injectもeachやmapと同様にメソッドを引数として渡すことで表記を省略することができる。"
   ]
  },
  {
   "cell_type": "code",
   "execution_count": 120,
   "metadata": {
    "collapsed": false
   },
   "outputs": [
    {
     "name": "stdout",
     "output_type": "stream",
     "text": [
      "5050\n"
     ]
    },
    {
     "data": {
      "text/plain": [
       "5050"
      ]
     },
     "execution_count": 120,
     "metadata": {},
     "output_type": "execute_result"
    }
   ],
   "source": [
    "p (1..100).to_a.inject(:+)"
   ]
  },
  {
   "cell_type": "markdown",
   "metadata": {},
   "source": [
    "## 演習問題\n",
    "**n!** を計算する関数をinjectを用いて実装せよ。"
   ]
  },
  {
   "cell_type": "code",
   "execution_count": 121,
   "metadata": {
    "collapsed": false
   },
   "outputs": [],
   "source": [
    "def fact(n)\n",
    "    # ここに処理を書く\n",
    "end\n",
    "fact(5)"
   ]
  },
  {
   "cell_type": "code",
   "execution_count": 123,
   "metadata": {
    "collapsed": false
   },
   "outputs": [
    {
     "data": {
      "text/plain": [
       "10055"
      ]
     },
     "execution_count": 123,
     "metadata": {},
     "output_type": "execute_result"
    }
   ],
   "source": [
    "# ヒント: 以下のようにして初期値を明示的に指定することができる\n",
    "(1..10).to_a.inject(10000){|sum, n| sum + n}\n",
    "# 10000 + 1 + 2 + ... + 50"
   ]
  },
  {
   "cell_type": "markdown",
   "metadata": {},
   "source": [
    "## チェックポイント\n",
    "* ブロック付きメソッドを利用する利点。\n",
    "* 以下のブロック付きメソッドそれぞれの用途\n",
    "    * each\n",
    "    * map\n",
    "    * inject\n",
    "* "
   ]
  }
 ],
 "metadata": {
  "kernelspec": {
   "display_name": "Ruby",
   "language": "ruby",
   "name": "ruby"
  },
  "language_info": {
   "file_extension": "rb",
   "mimetype": "text/ruby",
   "name": "ruby",
   "version": "2.2.2"
  }
 },
 "nbformat": 4,
 "nbformat_minor": 0
}

{
 "cells": [
  {
   "cell_type": "markdown",
   "metadata": {},
   "source": [
    "# 4.4 ハッシュの生成とメソッド\n",
    "**ハッシュ** はプログラミング言語によってはディクショナリーと呼ばれ、その名の通り、キーとなるオブジェクトを元にしてそれに対応する値を探して返す辞書のような構造になっている。\n",
    "配列は添字（整数）をキーとして別のオブジェクトに対応付けるハッシュのようなオブジェクトと言えるが、配列は要素の順番を大切にしているのに対し、ハッシュはキーとなるオブジェクトが順番を持てるものとは限らないのであまり重要とはされていない。\n",
    "\n",
    "またRubyでは、**シンボル** という文字列（のように見えるもの）をキーとしてハッシュを書くのがベターとされている。\n",
    "\n",
    "まず初めにシンボルについて解説する。Rubyではメソッド名、変数名や先の章で説明するクラス名などの名前は全て整数で管理している。この名前に対応した整数を表現したものはシンボルである。Rubyコード内でシンボルを使用するときには以下のように記述する。\n",
    "\n",
    "```ruby\n",
    ":[シンボル名]\n",
    "```"
   ]
  },
  {
   "cell_type": "code",
   "execution_count": 1,
   "metadata": {
    "collapsed": false
   },
   "outputs": [
    {
     "data": {
      "text/plain": [
       ":ruby"
      ]
     },
     "execution_count": 1,
     "metadata": {},
     "output_type": "execute_result"
    }
   ],
   "source": [
    ":ruby"
   ]
  },
  {
   "cell_type": "code",
   "execution_count": 2,
   "metadata": {
    "collapsed": false
   },
   "outputs": [
    {
     "data": {
      "text/plain": [
       "true"
      ]
     },
     "execution_count": 2,
     "metadata": {},
     "output_type": "execute_result"
    }
   ],
   "source": [
    ":ruby == :ruby"
   ]
  },
  {
   "cell_type": "code",
   "execution_count": 3,
   "metadata": {
    "collapsed": false
   },
   "outputs": [
    {
     "data": {
      "text/plain": [
       "true"
      ]
     },
     "execution_count": 3,
     "metadata": {},
     "output_type": "execute_result"
    }
   ],
   "source": [
    ":ruby.object_id == :ruby.object_id"
   ]
  },
  {
   "cell_type": "code",
   "execution_count": 4,
   "metadata": {
    "collapsed": false
   },
   "outputs": [
    {
     "data": {
      "text/plain": [
       "false"
      ]
     },
     "execution_count": 4,
     "metadata": {},
     "output_type": "execute_result"
    }
   ],
   "source": [
    "\"ruby\" == :ruby"
   ]
  },
  {
   "cell_type": "code",
   "execution_count": 5,
   "metadata": {
    "collapsed": false
   },
   "outputs": [
    {
     "data": {
      "text/plain": [
       "false"
      ]
     },
     "execution_count": 5,
     "metadata": {},
     "output_type": "execute_result"
    }
   ],
   "source": [
    "\"ruby\".object_id == :ruby.object_id"
   ]
  },
  {
   "cell_type": "code",
   "execution_count": 6,
   "metadata": {
    "collapsed": false
   },
   "outputs": [
    {
     "data": {
      "text/plain": [
       "false"
      ]
     },
     "execution_count": 6,
     "metadata": {},
     "output_type": "execute_result"
    }
   ],
   "source": [
    "\"ruby\".object_id == \"ruby\".object_id"
   ]
  },
  {
   "cell_type": "markdown",
   "metadata": {},
   "source": [
    "シンボルは前述の通り、Ruby上での名前を管理するためのものなので、**いつどこで参照しても実体は同じ** である。なので、どのような比較の仕方をしても同じ名前のシンボル同士であれば必ずtrueを返す(**object_id** はオブジェクトごとに割り当てられた整数のこと。オブジェクトについてはchapter6で解説)。\n",
    "\n",
    "この特徴から、Rubyでは名前をつけて管理するときにシンボルが使われることが多い。\n",
    "\n",
    "それではハッシュの話に戻ろう。以下にハッシュの構築方法と、アクセス方法を示す。"
   ]
  },
  {
   "cell_type": "code",
   "execution_count": 7,
   "metadata": {
    "collapsed": false
   },
   "outputs": [
    {
     "name": "stdout",
     "output_type": "stream",
     "text": [
      "1\n",
      "2\n",
      "nil\n",
      "{:one=>1, :two=>\"II\", :three=>3, :five=>5}\n"
     ]
    },
    {
     "data": {
      "text/plain": [
       "{:one=>1, :two=>\"II\", :three=>3, :five=>5}"
      ]
     },
     "execution_count": 7,
     "metadata": {},
     "output_type": "execute_result"
    }
   ],
   "source": [
    "hash = {one: 1, two: 2, three: 3}\n",
    "p hash[:one] #=> 1\n",
    "p hash[:two] #=> 2\n",
    "p hash[:five] #=> nil\n",
    "hash[:five] = 5 # 新しいキーと値の組み合わせ。\n",
    "hash[:two] = 'II' # 既存のキーの更新\n",
    "p hash       #=> {:one=>1, :two=>\"II\", :three=>3, :five=>5}"
   ]
  },
  {
   "cell_type": "markdown",
   "metadata": {},
   "source": [
    "ハッシュも多くのメソッドを備えているが、とりあえずは配列の要領でリファレンスを見てもらうことにする。\n",
    "\n",
    "* http://docs.ruby-lang.org/ja/2.1.0/class/Hash.html\n",
    "\n",
    "ハッシュにも配列同様にイテレータをサボートしているメソッドを持っている。"
   ]
  },
  {
   "cell_type": "code",
   "execution_count": 8,
   "metadata": {
    "collapsed": false
   },
   "outputs": [
    {
     "name": "stdout",
     "output_type": "stream",
     "text": [
      "Mike: 18\n",
      "Mika: 20\n",
      "Mary: 19\n",
      "Chris: 28\n",
      "Mikky: 25\n"
     ]
    },
    {
     "data": {
      "text/plain": [
       "{:Mike=>18, :John=>19, :Jakky=>28, :Mika=>20, :Karen=>22, :Mary=>19, :Chris=>28, :Mikky=>25}"
      ]
     },
     "execution_count": 8,
     "metadata": {},
     "output_type": "execute_result"
    }
   ],
   "source": [
    "hash = {Mike: 18,  John: 19,  Jakky: 28,  Mika: 20,  Karen: 22,  Mary: 19,  Chris: 28,  Mikky: 25}\n",
    "hash.each do |name, age|\n",
    "    puts \"#{name}: #{age}\" if name[0] == \"M\" || name[0] == \"C\"\n",
    "    # 頭文字がMとCの人だけ表示する。\n",
    "end"
   ]
  },
  {
   "cell_type": "markdown",
   "metadata": {},
   "source": [
    "ハッシュを自由自在に扱えると応用が利きやすいので覚えると良い。"
   ]
  },
  {
   "cell_type": "markdown",
   "metadata": {},
   "source": [
    "## 演習問題\n",
    "1. 0から25までの整数に小文字のアルファベット(a..z)を対応づけるハッシュを作成せよ。\n",
    "2. 1で作成したハッシュを利用して、シーザー暗号を生成するための関数を作成せよ。また、同時にそれを復号するための関数も作成せよ。(発展問題)<br>**シーザー暗号** ... アルファベットを任意の数だけ巡回的にずらして元となる文字列を暗号化された文字列に変換する方法。例えば\"abcdwxyz\"を3つ後ろにずらすと\"defgzabc\"になる。"
   ]
  },
  {
   "cell_type": "markdown",
   "metadata": {},
   "source": [
    "## チェックポイント\n",
    "* シンボルと文字列オブジェクトの違い。\n",
    "* 配列とハッシュの違い。"
   ]
  }
 ],
 "metadata": {
  "kernelspec": {
   "display_name": "Ruby",
   "language": "ruby",
   "name": "ruby"
  },
  "language_info": {
   "file_extension": "rb",
   "mimetype": "text/ruby",
   "name": "ruby",
   "version": "2.2.2"
  }
 },
 "nbformat": 4,
 "nbformat_minor": 0
}

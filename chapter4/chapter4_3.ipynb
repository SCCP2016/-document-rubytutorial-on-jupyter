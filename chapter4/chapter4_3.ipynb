{
 "cells": [
  {
   "cell_type": "markdown",
   "metadata": {},
   "source": [
    "## 4.3 文字列リテラル\n",
    "\n",
    "**文字列リテラル** とは文字列の値そのもののことで、以下のようなシングルクォーテーションやダブルクォーテーションで囲まれたもののことである。"
   ]
  },
  {
   "cell_type": "code",
   "execution_count": 1,
   "metadata": {
    "collapsed": false
   },
   "outputs": [
    {
     "data": {
      "text/plain": [
       "\"Ruby\""
      ]
     },
     "execution_count": 1,
     "metadata": {},
     "output_type": "execute_result"
    }
   ],
   "source": [
    "\"Ruby\""
   ]
  },
  {
   "cell_type": "code",
   "execution_count": 2,
   "metadata": {
    "collapsed": false
   },
   "outputs": [
    {
     "data": {
      "text/plain": [
       "\"Ruby\""
      ]
     },
     "execution_count": 2,
     "metadata": {},
     "output_type": "execute_result"
    }
   ],
   "source": [
    "'Ruby'"
   ]
  },
  {
   "cell_type": "markdown",
   "metadata": {},
   "source": [
    "C言語ではシングルクォーテーションは文字にのみ使っていたので違和感があるかもしれないが、Rubyではどちらも文字列リテラルを生成するための表現である。しかし、この二つの表現方法には違いがある。下の例を見てみよう。"
   ]
  },
  {
   "cell_type": "code",
   "execution_count": 3,
   "metadata": {
    "collapsed": false
   },
   "outputs": [
    {
     "data": {
      "text/plain": [
       "\"Ruby\""
      ]
     },
     "execution_count": 3,
     "metadata": {},
     "output_type": "execute_result"
    }
   ],
   "source": [
    "msg = \"Ruby\""
   ]
  },
  {
   "cell_type": "code",
   "execution_count": 4,
   "metadata": {
    "collapsed": false
   },
   "outputs": [
    {
     "data": {
      "text/plain": [
       "\"Ruby is a powerful language.\""
      ]
     },
     "execution_count": 4,
     "metadata": {},
     "output_type": "execute_result"
    }
   ],
   "source": [
    "\"#{msg} is a powerful language.\""
   ]
  },
  {
   "cell_type": "code",
   "execution_count": 5,
   "metadata": {
    "collapsed": false
   },
   "outputs": [
    {
     "data": {
      "text/plain": [
       "\"\\#{msg} is a powerful language.\""
      ]
     },
     "execution_count": 5,
     "metadata": {},
     "output_type": "execute_result"
    }
   ],
   "source": [
    "'#{msg} is a powerful language.'"
   ]
  },
  {
   "cell_type": "markdown",
   "metadata": {},
   "source": [
    "この例から分かるように、ダブルクォーテーションを使った文字列リテラルは変数の埋め込み(Strings interpolation)ができるのに対して、シングルクォーテーションを使っている方はプログラマが書いた文字列をそのまま表示している。これは、シングルクォーテーションで囲った文字列リテラルは **文字列をエスケープせずにそのままの値を持つ** という特徴からくる違いである。このため、途中で改行しようとして次のようなコードを書いても思った通りに動作しない。"
   ]
  },
  {
   "cell_type": "code",
   "execution_count": 6,
   "metadata": {
    "collapsed": false
   },
   "outputs": [
    {
     "name": "stdout",
     "output_type": "stream",
     "text": [
      "\"A\\\\nB\"\n"
     ]
    },
    {
     "data": {
      "text/plain": [
       "\"A\\\\nB\""
      ]
     },
     "execution_count": 6,
     "metadata": {},
     "output_type": "execute_result"
    }
   ],
   "source": [
    "p 'A\\nB'"
   ]
  },
  {
   "cell_type": "markdown",
   "metadata": {},
   "source": [
    "文字列リテラルを使用したコードを書く際には注意しよう。"
   ]
  },
  {
   "cell_type": "markdown",
   "metadata": {},
   "source": [
    "## チェックポイント\n",
    "* 文字列リテラルにおける **\"(ダブルクォート)** と **'(シングルクォート)** の違い。"
   ]
  }
 ],
 "metadata": {
  "kernelspec": {
   "display_name": "Ruby",
   "language": "ruby",
   "name": "ruby"
  },
  "language_info": {
   "file_extension": "rb",
   "mimetype": "text/ruby",
   "name": "ruby",
   "version": "2.2.2"
  }
 },
 "nbformat": 4,
 "nbformat_minor": 0
}

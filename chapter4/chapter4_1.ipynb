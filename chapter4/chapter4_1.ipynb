{
 "cells": [
  {
   "cell_type": "markdown",
   "metadata": {},
   "source": [
    "# 4.1 配列の生成とメソッド\n",
    "\n",
    "配列を表すArrayオブジェクトは、newメソッドを呼び出すことで生成することが出来る(オブジェクトについては第7章で説明)。\n",
    "メソッドの引数には配列の大きさを指定する必要がある。初期化ではすべての要素にnil(値が無いことを示す値)で埋められる。\n",
    "C言語同様に[]で添字を指定して参照したり、代入したりすることができる。\n",
    "以下は大きさが3の空の配列を生成して、最初の要素に1を代入する例。"
   ]
  },
  {
   "cell_type": "code",
   "execution_count": 1,
   "metadata": {
    "collapsed": false
   },
   "outputs": [
    {
     "data": {
      "text/plain": [
       "[nil, nil, nil]"
      ]
     },
     "execution_count": 1,
     "metadata": {},
     "output_type": "execute_result"
    }
   ],
   "source": [
    "arr = Array.new(3)"
   ]
  },
  {
   "cell_type": "code",
   "execution_count": 2,
   "metadata": {
    "collapsed": false
   },
   "outputs": [
    {
     "data": {
      "text/plain": [
       "1"
      ]
     },
     "execution_count": 2,
     "metadata": {},
     "output_type": "execute_result"
    }
   ],
   "source": [
    "arr[0] = 1"
   ]
  },
  {
   "cell_type": "code",
   "execution_count": 3,
   "metadata": {
    "collapsed": false
   },
   "outputs": [
    {
     "data": {
      "text/plain": [
       "[1, nil, nil]"
      ]
     },
     "execution_count": 3,
     "metadata": {},
     "output_type": "execute_result"
    }
   ],
   "source": [
    "arr"
   ]
  },
  {
   "cell_type": "markdown",
   "metadata": {},
   "source": [
    "配列はリテラル表記(直接的な書き方)ができ、それによって配列を生成することもできる。\n",
    "また、添字が循環しており-1で末尾の要素を指定することなどもできる。"
   ]
  },
  {
   "cell_type": "code",
   "execution_count": 4,
   "metadata": {
    "collapsed": false
   },
   "outputs": [
    {
     "data": {
      "text/plain": [
       "[1, 2, 3, 4, 5, 6, 7, 8, 9, 10]"
      ]
     },
     "execution_count": 4,
     "metadata": {},
     "output_type": "execute_result"
    }
   ],
   "source": [
    "arr = [1, 2, 3, 4, 5, 6, 7, 8, 9, 10]"
   ]
  },
  {
   "cell_type": "code",
   "execution_count": 5,
   "metadata": {
    "collapsed": false
   },
   "outputs": [
    {
     "data": {
      "text/plain": [
       "10"
      ]
     },
     "execution_count": 5,
     "metadata": {},
     "output_type": "execute_result"
    }
   ],
   "source": [
    "arr[-1]"
   ]
  },
  {
   "cell_type": "markdown",
   "metadata": {},
   "source": [
    "ちなみに、Range型は配列型に変換するメソッドを備えている。"
   ]
  },
  {
   "cell_type": "code",
   "execution_count": 6,
   "metadata": {
    "collapsed": false
   },
   "outputs": [
    {
     "data": {
      "text/plain": [
       "[1, 2, 3, 4, 5, 6, 7, 8, 9, 10]"
      ]
     },
     "execution_count": 6,
     "metadata": {},
     "output_type": "execute_result"
    }
   ],
   "source": [
    "(1..10).to_a"
   ]
  },
  {
   "cell_type": "markdown",
   "metadata": {},
   "source": [
    "冒頭で述べた通り配列はオブジェクトなので、配列の使えるメソッドを一気に紹介する。\n",
    "pメソッドはオブジェクトの形を維持したまま、出力するとても便利なメソッドだ。"
   ]
  },
  {
   "cell_type": "code",
   "execution_count": 7,
   "metadata": {
    "collapsed": false
   },
   "outputs": [
    {
     "name": "stdout",
     "output_type": "stream",
     "text": [
      "[\"a\", \"b\", \"c\"]\n",
      "3\n",
      "[\"a\", \"b\", \"c\", \"a\", \"b\", \"c\"]\n",
      "true\n",
      "[\"a\", \"a\", \"b\", \"b\", \"c\", \"c\"]\n",
      "\"a:b:c\"\n"
     ]
    },
    {
     "data": {
      "text/plain": [
       "\"a:b:c\""
      ]
     },
     "execution_count": 7,
     "metadata": {},
     "output_type": "execute_result"
    }
   ],
   "source": [
    "\"hogehoge\" #←文字列の形を維持している。\n",
    "arr = ['a', 'b', 'c']\n",
    "p arr #=> [\"a\", \"b\", \"c\"] ← 配列の形を維持している。\n",
    "p arr.length #=> 3 配列の長さを返す。\n",
    "p arr *= 2 #=> [\"a\", \"b\", \"c\", \"a\", \"b\", \"c\"]\n",
    "p arr.include? \"c\" #=> true 特定の値を含むかどうか\n",
    "p arr.sort #=> [\"a\", \"a\", \"b\", \"b\", \"c\", \"c\"] 配列を並び替える\n",
    "arr.uniq! #=> [\"a\",  \"b\",  \"c\"] 重複要素を削除\n",
    "p arr.join(\":\") #=> \"a:b:c\" 指定した文字列で要素を区切った文字列を生成"
   ]
  },
  {
   "cell_type": "markdown",
   "metadata": {},
   "source": [
    "ここで、メソッドの名前について注目してもらいたい。**?**と**!**で終わっているものがあると思われる。\n",
    "これは特別な機能ではなく、単純にメソッド名に記号が使うことができるだけである。\n",
    "習慣として**?**で終わるメソッドは真偽値(**true**, **false**)を返すメソッド、**!**で終わるメソッドは破壊的な処理を行うメソッドである。\n",
    "破壊的な処理とは、元のオブジェクトの状態を変更してしまうようなメソッドをあらわす。\n",
    "大体の場合は非破壊的メソッドも対で用意されていることが多い。**sort**や**uniq**メソッドがこれに当たる。"
   ]
  },
  {
   "cell_type": "code",
   "execution_count": 8,
   "metadata": {
    "collapsed": false
   },
   "outputs": [
    {
     "data": {
      "text/plain": [
       "[1, 1, 3, 2, 4, 5]"
      ]
     },
     "execution_count": 8,
     "metadata": {},
     "output_type": "execute_result"
    }
   ],
   "source": [
    "arr = [1, 1, 3, 2, 4, 5]"
   ]
  },
  {
   "cell_type": "code",
   "execution_count": 9,
   "metadata": {
    "collapsed": false
   },
   "outputs": [
    {
     "name": "stdout",
     "output_type": "stream",
     "text": [
      "[1, 1, 2, 3, 4, 5]\n"
     ]
    },
    {
     "data": {
      "text/plain": [
       "[1, 1, 2, 3, 4, 5]"
      ]
     },
     "execution_count": 9,
     "metadata": {},
     "output_type": "execute_result"
    }
   ],
   "source": [
    "p arr.sort"
   ]
  },
  {
   "cell_type": "markdown",
   "metadata": {},
   "source": [
    "表示も戻り値もソート済みだが…"
   ]
  },
  {
   "cell_type": "code",
   "execution_count": 10,
   "metadata": {
    "collapsed": false
   },
   "outputs": [
    {
     "name": "stdout",
     "output_type": "stream",
     "text": [
      "[1, 1, 3, 2, 4, 5]\n"
     ]
    },
    {
     "data": {
      "text/plain": [
       "[1, 1, 3, 2, 4, 5]"
      ]
     },
     "execution_count": 10,
     "metadata": {},
     "output_type": "execute_result"
    }
   ],
   "source": [
    "p arr"
   ]
  },
  {
   "cell_type": "markdown",
   "metadata": {},
   "source": [
    "元の配列は変更されていない（**非破壊的メソッド**）。"
   ]
  },
  {
   "cell_type": "code",
   "execution_count": 11,
   "metadata": {
    "collapsed": false
   },
   "outputs": [
    {
     "data": {
      "text/plain": [
       "[1, 1, 2, 3, 4, 5]"
      ]
     },
     "execution_count": 11,
     "metadata": {},
     "output_type": "execute_result"
    }
   ],
   "source": [
    "arr.sort!"
   ]
  },
  {
   "cell_type": "code",
   "execution_count": 12,
   "metadata": {
    "collapsed": false
   },
   "outputs": [
    {
     "name": "stdout",
     "output_type": "stream",
     "text": [
      "[1, 1, 2, 3, 4, 5]\n"
     ]
    },
    {
     "data": {
      "text/plain": [
       "[1, 1, 2, 3, 4, 5]"
      ]
     },
     "execution_count": 12,
     "metadata": {},
     "output_type": "execute_result"
    }
   ],
   "source": [
    "p arr"
   ]
  },
  {
   "cell_type": "markdown",
   "metadata": {},
   "source": [
    "しかし、破壊的メソッドを呼び出すと元の配列も変更されてしまう（**破壊的メソッド**）。"
   ]
  },
  {
   "cell_type": "markdown",
   "metadata": {},
   "source": [
    "## チェックポイント\n",
    "\n",
    "* 以下のリストを生成する方法について答えよ。\n",
    "    * 指定されたサイズの空のリストを生成\n",
    "    * リテラル表記を用いて生成\n",
    "    * Range型から変換して生成\n",
    "\n",
    "* メソッド名中に*?*と*!*が含まれているものはそれぞれどういったメソッドか。"
   ]
  }
 ],
 "metadata": {
  "kernelspec": {
   "display_name": "Ruby",
   "language": "ruby",
   "name": "ruby"
  },
  "language_info": {
   "file_extension": "rb",
   "mimetype": "text/ruby",
   "name": "ruby",
   "version": "2.2.2"
  }
 },
 "nbformat": 4,
 "nbformat_minor": 0
}

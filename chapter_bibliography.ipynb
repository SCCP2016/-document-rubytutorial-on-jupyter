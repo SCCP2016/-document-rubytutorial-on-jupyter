{
 "cells": [
  {
   "cell_type": "markdown",
   "metadata": {},
   "source": [
    "# 参考資料\n",
    "* 初めてのRuby / O'REILLY Japan, Yugui著\n",
    "* [Rubyチュートリアル(Ruby1.8.6 編) / OKI](http://www.oki-osk.jp/esc/ruby/tut.html)\n",
    "* [Ruby2.0.0リファレンスマニュアル](https://docs.ruby-lang.org/ja/2.0.0/doc/index.html)\n",
    "* [「関数型Ruby」という病](http://yuroyoro.hatenablog.com/entry/2012/08/08/201720)"
   ]
  }
 ],
 "metadata": {
  "kernelspec": {
   "display_name": "Ruby",
   "language": "ruby",
   "name": "ruby"
  },
  "language_info": {
   "file_extension": "rb",
   "mimetype": "text/ruby",
   "name": "ruby",
   "version": "2.2.2"
  }
 },
 "nbformat": 4,
 "nbformat_minor": 0
}

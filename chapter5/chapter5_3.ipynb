{
 "cells": [
  {
   "cell_type": "markdown",
   "metadata": {},
   "source": [
    "## 5.3 メッセージの受け取りと例外の特定"
   ]
  },
  {
   "cell_type": "markdown",
   "metadata": {},
   "source": [
    "5.1では例外が発生するとはどういうことか、また、例外を捕捉する方法について説明した。実は、例外は実行状態の異常を捕捉するための単なるシグナルではなく、立派なオブジェクトである(オブジェクトについてはchapter6で解説)。例外時に投げられるオブジェクトにはその例外の発生した理由が、そのオブジェクトの型やオブジェクトの持つメッセージに込められているので、受け取ることで例外発生後の処理に役立てることができる。\n",
    "\n",
    "例外処理は*begin...end*式で記述されるが、実際に例外を捕捉するのは*rescue*節である。例外オブジェクトを受け取る時にはこの*rescue*節を以下のように書き換える。"
   ]
  },
  {
   "cell_type": "markdown",
   "metadata": {},
   "source": [
    "```ruby\n",
    "rescue [例外オブジェクトの型(任意)] => [例外オブジェクトを格納する変数]\n",
    "```"
   ]
  },
  {
   "cell_type": "markdown",
   "metadata": {},
   "source": [
    "例えば4.1の例で例外メッセージを受け取りたい時には以下のように書き換えると良い。"
   ]
  },
  {
   "cell_type": "code",
   "execution_count": 1,
   "metadata": {
    "collapsed": false
   },
   "outputs": [
    {
     "data": {
      "text/plain": [
       ":my_assert"
      ]
     },
     "execution_count": 1,
     "metadata": {},
     "output_type": "execute_result"
    }
   ],
   "source": [
    "def my_assert(actual, expect)\n",
    "    # raiseについては4.3で説明\n",
    "    raise \"#{actual} is NOT #{expect}\" if actual != expect\n",
    "end"
   ]
  },
  {
   "cell_type": "code",
   "execution_count": 7,
   "metadata": {
    "collapsed": false
   },
   "outputs": [
    {
     "name": "stdout",
     "output_type": "stream",
     "text": [
      "assertion faild...\n",
      "#<RuntimeError: 9 is NOT 8.94427190999916>\n",
      "finish.\n"
     ]
    },
    {
     "data": {
      "text/plain": [
       "#<RuntimeError: 9 is NOT 8.94427190999916>"
      ]
     },
     "execution_count": 7,
     "metadata": {},
     "output_type": "execute_result"
    }
   ],
   "source": [
    "begin\n",
    "    a = 9\n",
    "    b = Math::sqrt(80)\n",
    "    my_assert(a, b)\n",
    "rescue => e\n",
    "    # exit\n",
    "    puts \"assertion faild...\"\n",
    "    p e\n",
    "    \n",
    "else\n",
    "    puts \"assertion succeed.\"\n",
    "    \n",
    "ensure\n",
    "    puts \"finish.\"\n",
    "    \n",
    "end"
   ]
  },
  {
   "cell_type": "markdown",
   "metadata": {},
   "source": [
    "また、捕捉する例外オブジェクトの型を限定するためには以下のようにする。"
   ]
  },
  {
   "cell_type": "code",
   "execution_count": 9,
   "metadata": {
    "collapsed": false
   },
   "outputs": [
    {
     "name": "stdout",
     "output_type": "stream",
     "text": [
      "assertion faild...\n",
      "#<RuntimeError: 9 is NOT 8.94427190999916>\n",
      "finish.\n"
     ]
    },
    {
     "data": {
      "text/plain": [
       "#<RuntimeError: 9 is NOT 8.94427190999916>"
      ]
     },
     "execution_count": 9,
     "metadata": {},
     "output_type": "execute_result"
    }
   ],
   "source": [
    "begin\n",
    "    a = 9\n",
    "    b = Math::sqrt(80)\n",
    "    my_assert(a, b)\n",
    "rescue RuntimeError => e  #ここを編集\n",
    "    # exit\n",
    "    puts \"assertion faild...\"\n",
    "    p e\n",
    "    \n",
    "else\n",
    "    puts \"assertion succeed.\"\n",
    "    \n",
    "ensure\n",
    "    puts \"finish.\"\n",
    "    \n",
    "end"
   ]
  },
  {
   "cell_type": "markdown",
   "metadata": {},
   "source": [
    "### 小演習"
   ]
  },
  {
   "cell_type": "markdown",
   "metadata": {},
   "source": [
    "Fixnumの0でFixnumの任意の数値を割ると、ある例外が発生する。その例外を捕捉して、0で割ったことを出力して終了するように以下のプログラムを書き換えなさい。ただし、捕捉するときにはその例外を限定して指定すること。また、\"finish.\"は例外が発生してもしなくても必ず出力すること。"
   ]
  },
  {
   "cell_type": "code",
   "execution_count": 15,
   "metadata": {
    "collapsed": false
   },
   "outputs": [
    {
     "name": "stdout",
     "output_type": "stream",
     "text": [
      "finish.\n"
     ]
    }
   ],
   "source": [
    "begin\n",
    "    # 0で割る計算\n",
    "rescue\n",
    "    \n",
    "end\n",
    "\n",
    "puts 'finish.'"
   ]
  }
 ],
 "metadata": {
  "kernelspec": {
   "display_name": "Ruby",
   "language": "ruby",
   "name": "ruby"
  },
  "language_info": {
   "file_extension": "rb",
   "mimetype": "text/ruby",
   "name": "ruby",
   "version": "2.2.2"
  }
 },
 "nbformat": 4,
 "nbformat_minor": 0
}

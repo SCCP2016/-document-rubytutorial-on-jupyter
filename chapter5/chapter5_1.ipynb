{
 "cells": [
  {
   "cell_type": "markdown",
   "metadata": {},
   "source": [
    "## 5.1 例外の捕捉\n",
    "\n",
    "プログラムの実行中に処理が続行不可能な異常状態になることがある。そのような状態に陥った時に処理を断ち切って状況に合わせてその時用の処理をさせたい場合がある。例外処理はその時に必要となる。"
   ]
  },
  {
   "cell_type": "markdown",
   "metadata": {},
   "source": [
    "```ruby\n",
    "begin\n",
    "  # 例外が発生しうる処理\n",
    "\n",
    "rescue\n",
    "  # 例外が発生した場合の処理\n",
    "\n",
    "else\n",
    "  # 例外が発生しなかった場合の処理\n",
    "\n",
    "ensure\n",
    "  # 例外が発生したかどうかに関わらず実行される処理\n",
    "\n",
    "end\n",
    "```"
   ]
  },
  {
   "cell_type": "markdown",
   "metadata": {},
   "source": [
    "*rescue*、*else*、*ensure*節のいずれも不要であれば省略可能である。\n",
    "\n",
    "例外処理を利用したプログラムの例を見てみよう。例えば、ある関数の戻り値が期待した値かどうか判定して、期待した値でなかったときにプログラムを終了する処理を書きたい。"
   ]
  },
  {
   "cell_type": "markdown",
   "metadata": {},
   "source": [
    "このプログラムを書く時に、二つ引数をとって、その引数同士が同じ値ではなかったら例外を発生させる関数*my_assert()*を定義して利用する。"
   ]
  },
  {
   "cell_type": "code",
   "execution_count": 1,
   "metadata": {
    "collapsed": false
   },
   "outputs": [
    {
     "data": {
      "text/plain": [
       ":my_assert"
      ]
     },
     "execution_count": 1,
     "metadata": {},
     "output_type": "execute_result"
    }
   ],
   "source": [
    "def my_assert(actual, expect)\n",
    "    # raiseについては4.3で説明\n",
    "    raise \"#{actual} is NOT #{expect}\" if actual != expect\n",
    "end"
   ]
  },
  {
   "cell_type": "code",
   "execution_count": 2,
   "metadata": {
    "collapsed": true
   },
   "outputs": [],
   "source": [
    "my_assert(0, 0)"
   ]
  },
  {
   "cell_type": "code",
   "execution_count": 3,
   "metadata": {
    "collapsed": false
   },
   "outputs": [
    {
     "ename": "RuntimeError",
     "evalue": "0 is NOT 1",
     "output_type": "error",
     "traceback": [
      "\u001b[31mRuntimeError\u001b[0m: 0 is NOT 1",
      "\u001b[37m<main>:2:in `my_assert'\u001b[0m",
      "\u001b[37m<main>:in `<main>'\u001b[0m",
      "\u001b[37m/usr/local/bundle/gems/iruby-0.2.1/lib/iruby/backend.rb:8:in `eval'\u001b[0m",
      "\u001b[37m/usr/local/bundle/gems/iruby-0.2.1/lib/iruby/backend.rb:8:in `eval'\u001b[0m",
      "\u001b[37m/usr/local/bundle/gems/iruby-0.2.1/lib/iruby/kernel.rb:104:in `execute_request'\u001b[0m",
      "\u001b[37m/usr/local/bundle/gems/iruby-0.2.1/lib/iruby/kernel.rb:64:in `run'\u001b[0m",
      "\u001b[37m/usr/local/bundle/gems/iruby-0.2.1/lib/iruby/command.rb:76:in `run_kernel'\u001b[0m",
      "\u001b[37m/usr/local/bundle/gems/iruby-0.2.1/lib/iruby/command.rb:33:in `run'\u001b[0m",
      "\u001b[37m/usr/local/bundle/gems/iruby-0.2.1/bin/iruby:5:in `<top (required)>'\u001b[0m",
      "\u001b[37m/usr/local/bundle/bin/iruby:23:in `load'\u001b[0m",
      "\u001b[37m/usr/local/bundle/bin/iruby:23:in `<main>'\u001b[0m"
     ]
    }
   ],
   "source": [
    "my_assert(0, 1)"
   ]
  },
  {
   "cell_type": "markdown",
   "metadata": {},
   "source": [
    "初めに、例外を捕捉せずに書いてみよう。"
   ]
  },
  {
   "cell_type": "code",
   "execution_count": 2,
   "metadata": {
    "collapsed": false
   },
   "outputs": [
    {
     "ename": "RuntimeError",
     "evalue": "9 is NOT 8.94427190999916",
     "output_type": "error",
     "traceback": [
      "\u001b[31mRuntimeError\u001b[0m: 9 is NOT 8.94427190999916",
      "\u001b[37m<main>:1:in `my_assert'\u001b[0m",
      "\u001b[37m<main>:6:in `<main>'\u001b[0m",
      "\u001b[37m/usr/local/bundle/gems/iruby-0.2.1/lib/iruby/backend.rb:8:in `eval'\u001b[0m",
      "\u001b[37m/usr/local/bundle/gems/iruby-0.2.1/lib/iruby/backend.rb:8:in `eval'\u001b[0m",
      "\u001b[37m/usr/local/bundle/gems/iruby-0.2.1/lib/iruby/kernel.rb:104:in `execute_request'\u001b[0m",
      "\u001b[37m/usr/local/bundle/gems/iruby-0.2.1/lib/iruby/kernel.rb:64:in `run'\u001b[0m",
      "\u001b[37m/usr/local/bundle/gems/iruby-0.2.1/lib/iruby/command.rb:76:in `run_kernel'\u001b[0m",
      "\u001b[37m/usr/local/bundle/gems/iruby-0.2.1/lib/iruby/command.rb:33:in `run'\u001b[0m",
      "\u001b[37m/usr/local/bundle/gems/iruby-0.2.1/bin/iruby:5:in `<top (required)>'\u001b[0m",
      "\u001b[37m/usr/local/bundle/bin/iruby:23:in `load'\u001b[0m",
      "\u001b[37m/usr/local/bundle/bin/iruby:23:in `<main>'\u001b[0m"
     ]
    }
   ],
   "source": [
    "a = 9\n",
    "b = Math::sqrt(80)\n",
    "my_assert(a, b)"
   ]
  },
  {
   "cell_type": "markdown",
   "metadata": {},
   "source": [
    "次に例外を捕捉する処理を書いてみる。(Jupyter上でexitを呼び出すとKernelが止まるので上のrestart kernelで再起動しよう。)"
   ]
  },
  {
   "cell_type": "code",
   "execution_count": 6,
   "metadata": {
    "collapsed": false
   },
   "outputs": [
    {
     "name": "stdout",
     "output_type": "stream",
     "text": [
      "assertion faild...\n",
      "finish.\n"
     ]
    }
   ],
   "source": [
    "begin\n",
    "    a = 9\n",
    "    b = Math::sqrt(80)\n",
    "    my_assert(a, b)\n",
    "rescue\n",
    "    # exit\n",
    "    puts \"assertion faild...\"\n",
    "    \n",
    "else\n",
    "    puts \"assertion succeed.\"\n",
    "    \n",
    "ensure\n",
    "    puts \"finish.\"\n",
    "    \n",
    "end"
   ]
  },
  {
   "cell_type": "markdown",
   "metadata": {},
   "source": [
    "例外処理を書くことで、異常な状態を捕捉してそれに対応する処理を実行させることができる。"
   ]
  },
  {
   "cell_type": "markdown",
   "metadata": {
    "collapsed": true
   },
   "source": [
    "## チェックポイント"
   ]
  },
  {
   "cell_type": "markdown",
   "metadata": {},
   "source": [
    "- if文で分岐するのと例外処理で分岐するのは何が違うか？"
   ]
  },
  {
   "cell_type": "markdown",
   "metadata": {},
   "source": [
    "- ensure節を使う場面を一つ考えよ。"
   ]
  }
 ],
 "metadata": {
  "kernelspec": {
   "display_name": "Ruby",
   "language": "ruby",
   "name": "ruby"
  },
  "language_info": {
   "file_extension": "rb",
   "mimetype": "text/ruby",
   "name": "ruby",
   "version": "2.2.2"
  }
 },
 "nbformat": 4,
 "nbformat_minor": 0
}

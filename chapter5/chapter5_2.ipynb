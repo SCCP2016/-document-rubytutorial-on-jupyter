{
 "cells": [
  {
   "cell_type": "markdown",
   "metadata": {},
   "source": [
    "## 5.2 例外の生成と発生\n",
    "\n",
    "このページでは自分で例外を生成してその例外を発生させる(処理を中断させる)方法を説明する。\n",
    "\n",
    "自分で例外を発生させる時には以下のように記述する。"
   ]
  },
  {
   "cell_type": "markdown",
   "metadata": {},
   "source": [
    "```ruby\n",
    "# (1)\n",
    "raise [例外オブジェクト]\n",
    "\n",
    "# (2)\n",
    "raise [例外オブジェクトの型], [メッセージ], [トラック情報]\n",
    "\n",
    "# (3)\n",
    "raise [例外オブジェクトの型], [メッセージ]\n",
    "\n",
    "# (4)\n",
    "raise [メッセージ]\n",
    "```"
   ]
  },
  {
   "cell_type": "markdown",
   "metadata": {},
   "source": [
    "一つひとつ順番に見ていこう。\n",
    "まず(1)の書き方は単純に、例外オブジェクトを生成して発生させる方法である。例外オブジェクトとはExceptionクラスを継承しているクラスのオプジェクトのことである（クラスとオブジェクトについては後の章で説明）。以下の三つはこれを基本に書かれている。\n",
    "\n",
    "(2)は、例外を発生させる時に一緒にオブジェクトを生成する方法だ。メッセージは4.2で説明した通り、例外を捕捉して表示したときに表示される文字列である。トラック情報というのは例外が発生した実行位置のことだが、この実行位置というのはコード上の位置ではなく、コンピュータが命令を読み込みに行ったスタック情報を指している。階層の低い情報なので、高度なプログラムを書かない限り必要になることはないだろう。\n",
    "\n",
    "(3)は(2)からトラック情報を省略する方法で振る舞いは(2)とほぼ同じだ。\n",
    "\n",
    "(4)は(3)からさらに例外オブジェクトの型を省略する方法である。この方法を使うと、自動的に例外オブジェクトの型はRuntimeErrorになる(Javaなど多くのプログラミング言語では例外オブジェクトの型にはExceptionという名前が付けられるが、Rubyでは慣例的にErrorという名前が付けられることが多い)。"
   ]
  },
  {
   "cell_type": "markdown",
   "metadata": {},
   "source": [
    "では期待したもの以外の値が来たら例外を返す関数を書いてみよう。"
   ]
  },
  {
   "cell_type": "code",
   "execution_count": 4,
   "metadata": {
    "collapsed": false
   },
   "outputs": [
    {
     "data": {
      "text/plain": [
       ":expect_eight"
      ]
     },
     "execution_count": 4,
     "metadata": {},
     "output_type": "execute_result"
    }
   ],
   "source": [
    "def expect_eight(maybe_eight)\n",
    "    if maybe_eight != 8\n",
    "        raise \"expect_eight: It is NOT 8!!\"\n",
    "    else\n",
    "        puts \"OK\"\n",
    "    end\n",
    "end"
   ]
  },
  {
   "cell_type": "code",
   "execution_count": 5,
   "metadata": {
    "collapsed": false
   },
   "outputs": [
    {
     "name": "stdout",
     "output_type": "stream",
     "text": [
      "OK\n"
     ]
    }
   ],
   "source": [
    "expect_eight(8)"
   ]
  },
  {
   "cell_type": "code",
   "execution_count": 6,
   "metadata": {
    "collapsed": false
   },
   "outputs": [
    {
     "ename": "RuntimeError",
     "evalue": "expect_eight: It is NOT 8!!",
     "output_type": "error",
     "traceback": [
      "\u001b[31mRuntimeError\u001b[0m: expect_eight: It is NOT 8!!",
      "\u001b[37m<main>:2:in `expect_eight'\u001b[0m",
      "\u001b[37m<main>:in `<main>'\u001b[0m",
      "\u001b[37m/usr/local/bundle/gems/iruby-0.2.1/lib/iruby/backend.rb:8:in `eval'\u001b[0m",
      "\u001b[37m/usr/local/bundle/gems/iruby-0.2.1/lib/iruby/backend.rb:8:in `eval'\u001b[0m",
      "\u001b[37m/usr/local/bundle/gems/iruby-0.2.1/lib/iruby/kernel.rb:104:in `execute_request'\u001b[0m",
      "\u001b[37m/usr/local/bundle/gems/iruby-0.2.1/lib/iruby/kernel.rb:64:in `run'\u001b[0m",
      "\u001b[37m/usr/local/bundle/gems/iruby-0.2.1/lib/iruby/command.rb:76:in `run_kernel'\u001b[0m",
      "\u001b[37m/usr/local/bundle/gems/iruby-0.2.1/lib/iruby/command.rb:33:in `run'\u001b[0m",
      "\u001b[37m/usr/local/bundle/gems/iruby-0.2.1/bin/iruby:5:in `<top (required)>'\u001b[0m",
      "\u001b[37m/usr/local/bundle/bin/iruby:23:in `load'\u001b[0m",
      "\u001b[37m/usr/local/bundle/bin/iruby:23:in `<main>'\u001b[0m"
     ]
    }
   ],
   "source": [
    "expect_eight(7)"
   ]
  },
  {
   "cell_type": "markdown",
   "metadata": {
    "collapsed": true
   },
   "source": [
    "## チェックポイント"
   ]
  },
  {
   "cell_type": "markdown",
   "metadata": {},
   "source": [
    "- 例外を発生させるために使うキーワードは何か？"
   ]
  },
  {
   "cell_type": "markdown",
   "metadata": {},
   "source": [
    "- 例外オブジェクトとはどんなオブジェクトか？"
   ]
  },
  {
   "cell_type": "markdown",
   "metadata": {},
   "source": [
    "- *raise \"exception!!\"*と書いて例外を発生させた場合、例外オブジェクトの型は何型になるか？"
   ]
  }
 ],
 "metadata": {
  "kernelspec": {
   "display_name": "Ruby",
   "language": "ruby",
   "name": "ruby"
  },
  "language_info": {
   "file_extension": "rb",
   "mimetype": "text/ruby",
   "name": "ruby",
   "version": "2.2.2"
  }
 },
 "nbformat": 4,
 "nbformat_minor": 0
}

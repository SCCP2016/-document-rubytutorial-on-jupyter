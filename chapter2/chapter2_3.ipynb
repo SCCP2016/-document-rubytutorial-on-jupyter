{
 "cells": [
  {
   "cell_type": "markdown",
   "metadata": {},
   "source": [
    "### 2.3 while式"
   ]
  },
  {
   "cell_type": "markdown",
   "metadata": {},
   "source": [
    "C言語でも登場したループを表す制御構文のうち、本節ではwhlie式を紹介する。while式はrubyの中で最も単純な繰り返し構造であり、条件式が成立している間、被制御部の式を繰り返し評価し続ける。while式は以下のように書くことが出来る。"
   ]
  },
  {
   "cell_type": "markdown",
   "metadata": {},
   "source": [
    "```ruby\n",
    "# Rubyのwhile式、doは省略可能\n",
    "while [条件式] do\n",
    "  [被制御部]\n",
    "end\n",
    "\n",
    "# if式などと同様にwhile修飾子が存在している。\n",
    "[被制御部] while [条件式]\n",
    "```"
   ]
  },
  {
   "cell_type": "markdown",
   "metadata": {},
   "source": [
    "whileもRubyでは式なので値を返す。基本的にwhileの返却値はnilだが、値つきでbreakした時のみnil以外の値を返すようになっている。"
   ]
  },
  {
   "cell_type": "code",
   "execution_count": 1,
   "metadata": {
    "collapsed": false
   },
   "outputs": [
    {
     "name": "stdout",
     "output_type": "stream",
     "text": [
      "x > 10\n"
     ]
    }
   ],
   "source": [
    "x = 0\n",
    "message = while true\n",
    "  x += 1\n",
    "  break 'x > 10' if x > 10\n",
    "end\n",
    "puts message  #=> x > 10"
   ]
  }
 ],
 "metadata": {
  "kernelspec": {
   "display_name": "Ruby",
   "language": "ruby",
   "name": "ruby"
  },
  "language_info": {
   "file_extension": "rb",
   "mimetype": "text/ruby",
   "name": "ruby",
   "version": "2.2.2"
  }
 },
 "nbformat": 4,
 "nbformat_minor": 0
}

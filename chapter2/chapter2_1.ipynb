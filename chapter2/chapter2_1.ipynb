{
 "cells": [
  {
   "cell_type": "markdown",
   "metadata": {},
   "source": [
    "### 2.1 if式\n",
    "rubyにおけるif式の基本的な構文は以下の形になる。\n",
    "\n",
    "```ruby\n",
    "if [条件式] then\n",
    "    [被制御式]\n",
    "end\n",
    "```\n",
    "複数条件がある時のif式 (elseif ではないことに注意！)\n",
    "```ruby\n",
    "if [条件式1] then\n",
    "    [被制御式1]\n",
    "elsif [条件式2] then\n",
    "    [被制御式2]\n",
    "elsif ...\n",
    "    ...\n",
    "else\n",
    "    [被制御式n]\n",
    "end\n",
    "```"
   ]
  },
  {
   "cell_type": "markdown",
   "metadata": {},
   "source": [
    "if式の構造を覚えたら、以下の例を試してみよう。"
   ]
  },
  {
   "cell_type": "code",
   "execution_count": 5,
   "metadata": {
    "collapsed": false
   },
   "outputs": [
    {
     "name": "stdout",
     "output_type": "stream",
     "text": [
      "5以上\n"
     ]
    }
   ],
   "source": [
    "x = 10\n",
    "if x == 1 then\n",
    "    puts '1'\n",
    "elsif x < 5 then\n",
    "    puts '5より小さい'\n",
    "else\n",
    "    puts '5以上'\n",
    "end"
   ]
  },
  {
   "cell_type": "markdown",
   "metadata": {},
   "source": [
    "もしelse節がなく、条件式単体の文を実行したい時には以下のように書くことができる。\n",
    "```ruby\n",
    "[被制御式] if [条件式]\n",
    "```"
   ]
  },
  {
   "cell_type": "code",
   "execution_count": 29,
   "metadata": {
    "collapsed": false
   },
   "outputs": [
    {
     "data": {
      "text/plain": [
       "10"
      ]
     },
     "execution_count": 29,
     "metadata": {},
     "output_type": "execute_result"
    }
   ],
   "source": [
    "x = 10"
   ]
  },
  {
   "cell_type": "code",
   "execution_count": 28,
   "metadata": {
    "collapsed": false
   },
   "outputs": [],
   "source": [
    "x = x * 2 + 1 if x % 2 == 0"
   ]
  },
  {
   "cell_type": "code",
   "execution_count": 8,
   "metadata": {
    "collapsed": false
   },
   "outputs": [
    {
     "data": {
      "text/plain": [
       "21"
      ]
     },
     "execution_count": 8,
     "metadata": {},
     "output_type": "execute_result"
    }
   ],
   "source": [
    "x"
   ]
  },
  {
   "cell_type": "markdown",
   "metadata": {},
   "source": [
    "非常に短くプログラムを書くことができるので、よく使われるテクニックのひとつである。\n",
    "\n",
    "もし条件式に != を使う場合には、条件式が偽のときに実行されるunless式を使うのも手だ。\n",
    "\n",
    "```ruby\n",
    "unless [条件式] then\n",
    "    [被制御式]\n",
    "end\n",
    "```"
   ]
  },
  {
   "cell_type": "code",
   "execution_count": 9,
   "metadata": {
    "collapsed": false
   },
   "outputs": [
    {
     "data": {
      "text/plain": [
       "100"
      ]
     },
     "execution_count": 9,
     "metadata": {},
     "output_type": "execute_result"
    }
   ],
   "source": [
    "y = 100"
   ]
  },
  {
   "cell_type": "code",
   "execution_count": 10,
   "metadata": {
    "collapsed": false
   },
   "outputs": [
    {
     "name": "stdout",
     "output_type": "stream",
     "text": [
      "100\n"
     ]
    }
   ],
   "source": [
    "# もしyの値が0でなければ出力\n",
    "unless y == 0 then\n",
    "    puts y\n",
    "end"
   ]
  },
  {
   "cell_type": "markdown",
   "metadata": {},
   "source": [
    "if式と同じく、unless式も以下のように一行で書くことができる。\n",
    "```ruby\n",
    "[被制御式] unless [条件式]\n",
    "```"
   ]
  },
  {
   "cell_type": "code",
   "execution_count": 11,
   "metadata": {
    "collapsed": false
   },
   "outputs": [
    {
     "name": "stdout",
     "output_type": "stream",
     "text": [
      "100\n"
     ]
    }
   ],
   "source": [
    "# もしyの値が0でなければyを出力\n",
    "puts y unless y == 0"
   ]
  },
  {
   "cell_type": "markdown",
   "metadata": {},
   "source": [
    "### 式と文\n",
    "Rubyではifは文ではなく、式として評価することができる。\n",
    "文との違いを示すためにC言語との比較を以下に示す。\n",
    "まずC言語の例から示そう。\n",
    "```c\n",
    "// if_exp.c\n",
    "int x, y; // 宣言が必要。\n",
    "scanf(\"%d\", &x);\n",
    "if(x % 2 == 0){\n",
    "    y = x * 2;     // 代入が逐一必要。\n",
    "}else{\n",
    "    y = x * 3;     // 代入が逐一必要。\n",
    "}\n",
    "printf(\"%d\\n\", y);\n",
    "```"
   ]
  },
  {
   "cell_type": "markdown",
   "metadata": {},
   "source": [
    "以上の例は、xが偶数なら2倍、奇数なら3倍にして返すif式の結果をyに代入しています。  \n",
    "次にRubyの例を示します。RubyはjupyterNote上で実行できるので、各自以下のプログラムを実行して動作を確認してみましょう。"
   ]
  },
  {
   "cell_type": "code",
   "execution_count": 36,
   "metadata": {
    "collapsed": false
   },
   "outputs": [
    {
     "name": "stdout",
     "output_type": "stream",
     "text": [
      "41\n",
      "123\n"
     ]
    }
   ],
   "source": [
    "x = rand(100)\n",
    "puts x\n",
    "y = if x % 2 == 0 then  # ifの結果をyに代入\n",
    "    x * 2   # 式(右辺)のみを記述\n",
    "else\n",
    "    x * 3\n",
    "end\n",
    "\n",
    "\n",
    "puts y"
   ]
  },
  {
   "cell_type": "markdown",
   "metadata": {},
   "source": [
    "ここで、一番最初に *x* に \n",
    "ここで、Rubyの関数やifでは、最後に評価される値を結果として返します。各自 *x* の値がどこでどのように評価され、どこの値が返されて、最終的に *y* に代入されているかを流れを追って確認してみましょう。"
   ]
  },
  {
   "cell_type": "markdown",
   "metadata": {},
   "source": [
    "### 演習"
   ]
  },
  {
   "cell_type": "markdown",
   "metadata": {},
   "source": [
    "- 以下のプログラムを、ifが式であることを利用して書き直せ。"
   ]
  },
  {
   "cell_type": "code",
   "execution_count": 12,
   "metadata": {
    "collapsed": false
   },
   "outputs": [
    {
     "data": {
      "text/plain": [
       "[5, 8]"
      ]
     },
     "execution_count": 12,
     "metadata": {},
     "output_type": "execute_result"
    }
   ],
   "source": [
    "x, y = 5, 8"
   ]
  },
  {
   "cell_type": "code",
   "execution_count": 13,
   "metadata": {
    "collapsed": false
   },
   "outputs": [
    {
     "data": {
      "text/plain": [
       "10"
      ]
     },
     "execution_count": 13,
     "metadata": {},
     "output_type": "execute_result"
    }
   ],
   "source": [
    "if x > 3 then\n",
    "    x2 = x * 2\n",
    "else\n",
    "    x2 = x\n",
    "end"
   ]
  },
  {
   "cell_type": "code",
   "execution_count": 15,
   "metadata": {
    "collapsed": false
   },
   "outputs": [
    {
     "name": "stdout",
     "output_type": "stream",
     "text": [
      "10\n",
      "2\n"
     ]
    }
   ],
   "source": [
    "puts x2, y2"
   ]
  },
  {
   "cell_type": "markdown",
   "metadata": {},
   "source": [
    "- ある与えられた配列arrがnilでなければ、arrの中身を全て出力するプログラムを、unless式を用いて実装せよ。更に可能ならば、より短いコードとなるように工夫してみよ。"
   ]
  },
  {
   "cell_type": "code",
   "execution_count": 24,
   "metadata": {
    "collapsed": false
   },
   "outputs": [],
   "source": [
    "arr1 = [1,2,3,4,5]\n",
    "arr2 = nil\n",
    "\n",
    "# ここに追加するプログラムを書く"
   ]
  },
  {
   "cell_type": "markdown",
   "metadata": {
    "collapsed": true
   },
   "source": [
    "### チェックリスト"
   ]
  },
  {
   "cell_type": "markdown",
   "metadata": {},
   "source": [
    "* if文とif式の違いは何か？\n",
    "* if式によって得られるメリットは何か。"
   ]
  }
 ],
 "metadata": {
  "kernelspec": {
   "display_name": "Ruby",
   "language": "ruby",
   "name": "ruby"
  },
  "language_info": {
   "file_extension": "rb",
   "mimetype": "text/ruby",
   "name": "ruby",
   "version": "2.2.2"
  },
  "widgets": {
   "state": {},
   "version": "1.1.2"
  }
 },
 "nbformat": 4,
 "nbformat_minor": 0
}

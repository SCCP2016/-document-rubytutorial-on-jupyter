{
 "cells": [
  {
   "cell_type": "markdown",
   "metadata": {},
   "source": [
    "### 2.1 if式\n",
    "rubyにおけるif式の基本的な構文は以下の形になる。\n",
    "\n",
    "```ruby\n",
    "if [条件式] then\n",
    "    [被制御式]\n",
    "end\n",
    "\n",
    "# 複数条件ある時のif式 (elseif ではないことに注意！)\n",
    "if [条件式1] then\n",
    "    [被制御式1]\n",
    "elsif [条件式2] then\n",
    "    [被制御式2]\n",
    "elsif ...\n",
    "    ...\n",
    "else\n",
    "    [被制御式n]\n",
    "end\n",
    "```\n"
   ]
  },
  {
   "cell_type": "markdown",
   "metadata": {},
   "source": [
    "if式の構造を覚えたら、以下の例を試してみよう。"
   ]
  },
  {
   "cell_type": "code",
   "execution_count": 1,
   "metadata": {
    "collapsed": false
   },
   "outputs": [
    {
     "name": "stdout",
     "output_type": "stream",
     "text": [
      "5以上\n"
     ]
    }
   ],
   "source": [
    "x = 10\n",
    "if x == 1 then\n",
    "    puts '1'\n",
    "elsif x < 5 then\n",
    "    puts '5より小さい'\n",
    "else\n",
    "    puts '5以上'\n",
    "end"
   ]
  },
  {
   "cell_type": "markdown",
   "metadata": {},
   "source": [
    "もしelse節がなく、条件式単体の文を実行したい時には以下のように書くことができる。\n",
    "```ruby\n",
    "[被制御式] if [条件式]\n",
    "```"
   ]
  },
  {
   "cell_type": "code",
   "execution_count": 2,
   "metadata": {
    "collapsed": false
   },
   "outputs": [
    {
     "data": {
      "text/plain": [
       "10"
      ]
     },
     "execution_count": 2,
     "metadata": {},
     "output_type": "execute_result"
    }
   ],
   "source": [
    "x=10"
   ]
  },
  {
   "cell_type": "code",
   "execution_count": 3,
   "metadata": {
    "collapsed": false
   },
   "outputs": [
    {
     "data": {
      "text/plain": [
       "21"
      ]
     },
     "execution_count": 3,
     "metadata": {},
     "output_type": "execute_result"
    }
   ],
   "source": [
    "x=x*2+1 if x % 2 == 0"
   ]
  },
  {
   "cell_type": "code",
   "execution_count": 4,
   "metadata": {
    "collapsed": true
   },
   "outputs": [],
   "source": [
    "x=x*2+1 if x % 2 == 0"
   ]
  },
  {
   "cell_type": "code",
   "execution_count": 5,
   "metadata": {
    "collapsed": false
   },
   "outputs": [
    {
     "data": {
      "text/plain": [
       "21"
      ]
     },
     "execution_count": 5,
     "metadata": {},
     "output_type": "execute_result"
    }
   ],
   "source": [
    "x"
   ]
  },
  {
   "cell_type": "markdown",
   "metadata": {},
   "source": [
    "非常に短くプログラムを書くことができるので、よく使われるテクニックのひとつである。\n",
    "\n",
    "もし条件式に != を使う場合には、条件式が偽のときに実行されるunless構文を使うのも手だ。\n",
    "\n",
    "```ruby\n",
    "unless [条件式] then\n",
    "    [被制御式]\n",
    "end\n",
    "```\n",
    "\n",
    "Rubyではifは文ではなく、式として評価することができる。\n",
    "文との違いを示すためにC言語との比較を以下に示す。\n",
    "\n",
    "```c\n",
    "// if_exp.c\n",
    "\n",
    "int x, y; // 宣言が必要。\n",
    "scanf(\"%d\", &x);\n",
    "if(x % 2 == 0){\n",
    "    y = x * 2;     // 代入が逐一必要。\n",
    "}else{\n",
    "    y = x * 3;     // 代入が逐一必要。\n",
    "}\n",
    "printf(\"%d\\n\", y);\n",
    "```\n",
    "\n",
    "```ruby\n",
    "# if_exp.rb\n",
    "\n",
    "x = STDIN.gets.to_i # 標準入力を受け取り、整数に変換する。\n",
    "y = if x % 2 == 0 then  # ifの結果をyに代入\n",
    "    x * 2   # 式(右辺)のみを記述\n",
    "else\n",
    "    x * 3\n",
    "end\n",
    "puts y\n",
    "```\n",
    "以上の例は、xが偶数なら2倍、奇数なら3倍にして返すif式の結果をyに代入している。\n",
    "Rubyの関数やifでは、最後に評価される値を結果として返していることがわかる。\n",
    "\n",
    "if式の使い方が習得できているかの確認のために以下の問題を解いてみよう。\n",
    "\n",
    "- http://judge.u-aizu.ac.jp/onlinejudge/description.jsp?id=ITP1_2_A\n",
    "- http://judge.u-aizu.ac.jp/onlinejudge/description.jsp?id=ITP1_2_B\n",
    "\n",
    "補足\n",
    "```ruby\n",
    "# 以下のように書くと空白区切りの文字を数字に変換しつつ、a,bに代入することができる。\n",
    "a, b = STDIN.gets.split.map(&:to_i)\n",
    "```"
   ]
  },
  {
   "cell_type": "code",
   "execution_count": null,
   "metadata": {
    "collapsed": true
   },
   "outputs": [],
   "source": []
  }
 ],
 "metadata": {
  "kernelspec": {
   "display_name": "Ruby 2.1.5",
   "language": "ruby",
   "name": "ruby"
  },
  "language_info": {
   "file_extension": ".rb",
   "mimetype": "application/x-ruby",
   "name": "ruby",
   "version": "2.1.5"
  },
  "widgets": {
   "state": {},
   "version": "1.1.2"
  }
 },
 "nbformat": 4,
 "nbformat_minor": 0
}

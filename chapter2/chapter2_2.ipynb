{
 "cells": [
  {
   "cell_type": "markdown",
   "metadata": {},
   "source": [
    "### 2.2 case式\n",
    "rubyにおけるcase式は、C言語におけるswitch-case文に相当するものであり、値による多岐分岐を提供してくれている。\n",
    "\n",
    "```ruby\n",
    "# Rubyのcase式\n",
    "case [変数]\n",
    "when [値] then\n",
    "  [処理]\n",
    "when [値] then\n",
    "  [処理]\n",
    "...\n",
    "else\n",
    "  [処理]\n",
    "end\n",
    "```"
   ]
  },
  {
   "cell_type": "code",
   "execution_count": null,
   "metadata": {
    "collapsed": true
   },
   "outputs": [],
   "source": [
    "hour = 6"
   ]
  },
  {
   "cell_type": "code",
   "execution_count": null,
   "metadata": {
    "collapsed": true
   },
   "outputs": [],
   "source": [
    "# 時間によって返す挨拶を変える\n",
    "case hour\n",
    "when 6 then\n",
    "    puts 'おはよう！'\n",
    "when 12 then\n",
    "    puts 'こんにちは！'\n",
    "when 9 then\n",
    "    puts 'こんばんは！'\n",
    "else\n",
    "    puts 'お疲れ〜'"
   ]
  },
  {
   "cell_type": "markdown",
   "metadata": {},
   "source": [
    "上のcase式では、まずcaseの後に置かれた[変数]が評価され、次にその値に対応するwhen節が選ばれた後にthen節が実行され、\n",
    "最後に評価された式がcase式全体の値になり、返却される。このcase式もif式と同じく、区切りが明確であればthenは省略可能である。\n",
    "\n",
    "Rubyのcase式は整数・文字、だけでなく任意の型を記述することができる。\n",
    "非常に面白い例として範囲をあらわすRange型を使用してみる。C言語版と比較してみよう。\n",
    "\n",
    "```c\n",
    "// -*- coding: utf-8 -*-\n",
    "// case.c\n",
    "\n",
    "int x;\n",
    "while(1){\n",
    "\tscanf(\"%d\", &x);\n",
    "\tswitch(x){\n",
    "\t\tcase 1:\n",
    "\t\tcase 2:\n",
    "\t\tcase 3:\n",
    "\t\t\tprintf(\"0~3の間\");\n",
    "\t\t...\n",
    "\t\tdefault:\n",
    "\t\t\tprintf(\"範囲外なので終了。\");\n",
    "\t\t\tbreak;\n",
    "\t}\n",
    "}\n",
    "```\n",
    "\n",
    "```ruby\n",
    "# -*- coding: utf-8 -*-\n",
    "# case.rb\n",
    "\n",
    "puts '0~10の間の数字を入力してください。(範囲の外に出たら終了。)'\n",
    "loop{ # 無限ループをするメソッド\n",
    "  case STDIN.gets.to_i\n",
    "  when 0..3   #  範囲をあらわすRange型\n",
    "    puts '0~3の間'\n",
    "  when 4..7\n",
    "    puts '4~7の間'\n",
    "  when 8..10\n",
    "    puts '8~10の間'\n",
    "  else\n",
    "    puts '範囲外に出たので終了します。'\n",
    "    break\n",
    "  end\n",
    "}\n",
    "```\n",
    "\n",
    "また、RubyではCとcase式内でのbreakの使い方が異なり、breakが評価されると上の例のようにcase式からではなくcase式を含むブロックからの脱出になってしまうことに注意してほしい。\n",
    "もう一つ注意するべきなのが、評価されるthen節は一つのcase式内で一つのみである点である。次の例を見て欲しい。\n",
    "\n",
    "```ruby\n",
    "# -*- coding: utf-8 -*-\n",
    "\n",
    "puts '0~10の間の数字を入力してください。(範囲の外に出たら終了。)'\n",
    "loop{\n",
    "  case \n",
    "  when 0..10   #  範囲を変更\n",
    "    puts '0~10の間'\n",
    "  when 4..7\n",
    "    puts '4~7の間'\n",
    "  when 8..10\n",
    "    puts '8~10の間'\n",
    "  else\n",
    "    puts '範囲外に出たので終了します。'\n",
    "    break\n",
    "  end\n",
    "}\n",
    "```\n",
    "\n",
    "一つ目のwhen節の条件式が変わっている。C言語では、breakを書かない限り条件が一致していれば複数のブロックを評価するのに対し、Rubyでは初めに選ばれたwhen節で自動的に値を返してしまうので、上の例では下二つのwhen節は絶対に通らないことになってしまう。これはbreakの使い方に関係していて、Rubyではcase節内のbreakは不要であるということを意味している。"
   ]
  },
  {
   "cell_type": "markdown",
   "metadata": {},
   "source": [
    "Range型を使えば一番最初に挙げた挨拶のプログラムの例も書き換えることができる。"
   ]
  },
  {
   "cell_type": "code",
   "execution_count": 14,
   "metadata": {
    "collapsed": false
   },
   "outputs": [
    {
     "data": {
      "text/plain": [
       "20"
      ]
     },
     "execution_count": 14,
     "metadata": {},
     "output_type": "execute_result"
    }
   ],
   "source": [
    "hour= 20"
   ]
  },
  {
   "cell_type": "code",
   "execution_count": 17,
   "metadata": {
    "collapsed": false
   },
   "outputs": [
    {
     "name": "stdout",
     "output_type": "stream",
     "text": [
      "こんばんは！\n"
     ]
    }
   ],
   "source": [
    "# 時間によって返す挨拶を変える\n",
    "case hour\n",
    "when 6..11 then\n",
    "    puts 'おはよう！'\n",
    "when 12..18 then\n",
    "    puts 'こんにちは！'\n",
    "when 18..24 then\n",
    "    puts 'こんばんは！'\n",
    "else\n",
    "    puts 'お疲れ〜'\n",
    "end"
   ]
  },
  {
   "cell_type": "markdown",
   "metadata": {},
   "source": [
    "更に、if式と同じ様にcaseも式であることに着目すると、上のプログラムはかの様に書き換えることが出来ます。"
   ]
  },
  {
   "cell_type": "code",
   "execution_count": 18,
   "metadata": {
    "collapsed": false
   },
   "outputs": [
    {
     "name": "stdout",
     "output_type": "stream",
     "text": [
      "こんばんは！\n"
     ]
    }
   ],
   "source": [
    "puts case hour\n",
    "when 6..11 then\n",
    "    'おはよう！'\n",
    "when 12..17 then\n",
    "    'こんにちは！'\n",
    "when 18..24 then\n",
    "    'こんばんは！'\n",
    "else\n",
    "    'お疲れ〜'\n",
    "end"
   ]
  },
  {
   "cell_type": "markdown",
   "metadata": {},
   "source": [
    "プログラムの中でどこが変わっているか気づいたでしょうか？\n",
    "前のプログラムでは、caseの中のwhen節それぞれでputsをしていますが、case式自体が値を返すことに着目すると、case式のwhen節は挨拶を表す文字列を返すだけに変更し、putsをcase式の先頭に追加するだけで済みます。"
   ]
  },
  {
   "cell_type": "markdown",
   "metadata": {},
   "source": [
    "### 演習\n",
    "月が与えられた時、その季節を返すcase式を実装せよ。どの月がどの季節を表すかは以下を参考にせよ。\n",
    "* 3 ~ 5月: 春\n",
    "* 6 ~ 8月: 夏\n",
    "* 9 ~ 11月: 秋\n",
    "* 12 ~ 2月: 冬"
   ]
  },
  {
   "cell_type": "markdown",
   "metadata": {},
   "source": [
    "### チェックポイント"
   ]
  },
  {
   "cell_type": "markdown",
   "metadata": {},
   "source": [
    "* case式の特徴を述べよ"
   ]
  },
  {
   "cell_type": "code",
   "execution_count": null,
   "metadata": {
    "collapsed": true
   },
   "outputs": [],
   "source": []
  }
 ],
 "metadata": {
  "kernelspec": {
   "display_name": "Ruby",
   "language": "ruby",
   "name": "ruby"
  },
  "language_info": {
   "file_extension": "rb",
   "mimetype": "text/ruby",
   "name": "ruby",
   "version": "2.2.2"
  },
  "widgets": {
   "state": {},
   "version": "1.1.2"
  }
 },
 "nbformat": 4,
 "nbformat_minor": 0
}

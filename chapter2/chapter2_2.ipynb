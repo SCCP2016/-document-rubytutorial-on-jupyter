{
 "cells": [
  {
   "cell_type": "markdown",
   "metadata": {},
   "source": [
    "### 2.2 case式\n",
    "rubyにおけるcase式は、C言語におけるswitch-case文に相当するものであり、値による多岐分岐を提供してくれている。\n",
    "\n",
    "```ruby\n",
    "# Rubyのcase式\n",
    "case [変数]\n",
    "when [値] then\n",
    "  [処理]\n",
    "when [値] then\n",
    "  [処理]\n",
    "...\n",
    "else\n",
    "  [処理]\n",
    "end\n",
    "```"
   ]
  },
  {
   "cell_type": "code",
   "execution_count": null,
   "metadata": {
    "collapsed": true
   },
   "outputs": [],
   "source": [
    "hour = 6"
   ]
  },
  {
   "cell_type": "code",
   "execution_count": null,
   "metadata": {
    "collapsed": true
   },
   "outputs": [],
   "source": [
    "# 時間によって返す挨拶を変える\n",
    "case hour\n",
    "when 6 then\n",
    "    puts 'おはよう！'\n",
    "when 12 then\n",
    "    puts 'こんにちは！'\n",
    "when 9 then\n",
    "    puts 'こんばんは！'\n",
    "else\n",
    "    puts 'お疲れ〜'"
   ]
  },
  {
   "cell_type": "markdown",
   "metadata": {},
   "source": [
    "上のcase式では、まずcaseの後に置かれた[変数]が評価され、次にその値に対応するwhen節が選ばれた後にthen節が実行され、\n",
    "最後に評価された式がcase式全体の値になり、返却されます。このcase式もif式と同じく、区切りが明確であればthenは省略可能です。\n",
    "\n",
    "Rubyのcase式は整数・文字、だけでなく任意の型を記述することができます。\n",
    "非常に面白い例として、範囲をあらわすRange型を使用してみます。C言語版と比較してみましょう。\n",
    "\n",
    "```c\n",
    "// -*- coding: utf-8 -*-\n",
    "// case.c\n",
    "\n",
    "int x;\n",
    "while(1){\n",
    "\tscanf(\"%d\", &x);\n",
    "\tswitch(x){\n",
    "\t\tcase 0:\n",
    "\t\tcase 1:\n",
    "\t\t\tprintf(\"0~1の間\");\n",
    "            break;\n",
    "        case 2:\n",
    "        case 3: \n",
    "            printf(\"2~3の間\");\n",
    "            break;\n",
    "        case 4:\n",
    "        case 5:\n",
    "        case 6:\n",
    "            printf(\"4~6の間\")\n",
    "            break;\n",
    "\t\tdefault:\n",
    "\t\t\tprintf(\"範囲外に出たので終了します。\");\n",
    "\t\t\tbreak;\n",
    "\t}\n",
    "}\n",
    "```\n",
    "\n",
    "```ruby\n",
    "# -*- coding: utf-8 -*-\n",
    "# case.rb\n",
    "\n",
    "puts '0~10の間の数字を入力してください。(範囲の外に出たら終了。)'\n",
    "loop{ # 無限ループをするメソッド\n",
    "  case STDIN.gets.to_i\n",
    "  when 0..1   #  範囲をあらわすRange型\n",
    "    puts '0~1の間'\n",
    "  when 2..3\n",
    "    puts '2~3の間'\n",
    "  when 4..6\n",
    "    puts '4~5の間'\n",
    "  else\n",
    "    puts '範囲外に出たので終了します。'\n",
    "    break\n",
    "  end\n",
    "}\n",
    "```\n",
    "\n",
    "また、RubyではCとcase式内でのbreakの使い方が異なり、breakが評価されると上の例のようにcase式からではなくcase式を含むブロックからの脱出になってしまうことに注意しましょう。\n",
    "もう一つ注意するべきなのが、 **評価されるthen節は一つのcase式内で一つのみ** だと言う点です。次の例を見てください。\n",
    "\n",
    "```ruby\n",
    "# -*- coding: utf-8 -*-\n",
    "\n",
    "puts '0~10の間の数字を入力してください。(範囲の外に出たら終了。)'\n",
    "loop{\n",
    "  case \n",
    "  when 0..1\n",
    "    puts '0~1の間'\n",
    "  when 2..3\n",
    "    puts '2~3の間'\n",
    "  when 4..6\n",
    "    puts '4~6の間'\n",
    "  else\n",
    "    puts '範囲外に出たので終了します。'\n",
    "    break\n",
    "  end\n",
    "}\n",
    "```\n",
    "\n",
    "ここでは、一つ目のwhen節の条件式が変わっています。C言語では、breakを書かない限り条件が一致していれば複数のブロックを評価するのに対し、Rubyでは初めに選ばれたwhen節で自動的に値を返してしまうので、上の例では下二つのwhen節は絶対に通らないことになってしまいます。これはbreakの使い方に関係していて、Rubyではcase節内のbreakは不要であるということを意味しています。  \n",
    "Range型を使えば本章の最初の方で挙げた挨拶のプログラムの例も書き換えることができます。"
   ]
  },
  {
   "cell_type": "code",
   "execution_count": 14,
   "metadata": {
    "collapsed": false
   },
   "outputs": [
    {
     "data": {
      "text/plain": [
       "20"
      ]
     },
     "execution_count": 14,
     "metadata": {},
     "output_type": "execute_result"
    }
   ],
   "source": [
    "hour= 20"
   ]
  },
  {
   "cell_type": "code",
   "execution_count": 17,
   "metadata": {
    "collapsed": false
   },
   "outputs": [
    {
     "name": "stdout",
     "output_type": "stream",
     "text": [
      "こんばんは！\n"
     ]
    }
   ],
   "source": [
    "# 時間によって返す挨拶を変える\n",
    "case hour\n",
    "when 6..11 then\n",
    "    puts 'おはよう！'\n",
    "when 12..18 then\n",
    "    puts 'こんにちは！'\n",
    "when 18..24 then\n",
    "    puts 'こんばんは！'\n",
    "else\n",
    "    puts 'お疲れ〜'\n",
    "end"
   ]
  },
  {
   "cell_type": "markdown",
   "metadata": {},
   "source": [
    "更に、if式と同じ様にcaseも式であることに着目すると、上のプログラムはかの様に書き換えることが出来ます。"
   ]
  },
  {
   "cell_type": "code",
   "execution_count": 18,
   "metadata": {
    "collapsed": false
   },
   "outputs": [
    {
     "name": "stdout",
     "output_type": "stream",
     "text": [
      "こんばんは！\n"
     ]
    }
   ],
   "source": [
    "puts case hour\n",
    "when 6..11 then\n",
    "    'おはよう！'\n",
    "when 12..17 then\n",
    "    'こんにちは！'\n",
    "when 18..24 then\n",
    "    'こんばんは！'\n",
    "else\n",
    "    'お疲れ〜'\n",
    "end"
   ]
  },
  {
   "cell_type": "markdown",
   "metadata": {},
   "source": [
    "プログラムの中でどこが変わっているか気づいたでしょうか？\n",
    "前のプログラムでは、case式の中のwhen節それぞれでputsをしています。しかし、case式自体が値を返すことに着目すると、case式のwhen節は挨拶を表す文字列を返すだけに変更し、putsをcase式の先頭に追加することで前のプログラムと同様の動作をより少ない文字数で実現できます。"
   ]
  },
  {
   "cell_type": "markdown",
   "metadata": {},
   "source": [
    "### 演習\n",
    "最初に一つの数字が与えられる。0~100の範囲の値については、偶数か奇数かを数字と共に標準出力し、\n",
    "100を超える値についてはではない値のみ出力せよ\n",
    "case式を実装し、結果を標準出力するプログラムを書け。"
   ]
  },
  {
   "cell_type": "code",
   "execution_count": 26,
   "metadata": {
    "collapsed": false
   },
   "outputs": [],
   "source": [
    "target = 100\n",
    "\n",
    "case target\n",
    "when \n",
    "        # ...ここにプログラムを書く\n",
    "end"
   ]
  },
  {
   "cell_type": "markdown",
   "metadata": {},
   "source": [
    "### チェックポイント"
   ]
  },
  {
   "cell_type": "markdown",
   "metadata": {},
   "source": [
    "* case式の特徴を述べよ"
   ]
  }
 ],
 "metadata": {
  "kernelspec": {
   "display_name": "Ruby",
   "language": "ruby",
   "name": "ruby"
  },
  "language_info": {
   "file_extension": "rb",
   "mimetype": "text/ruby",
   "name": "ruby",
   "version": "2.2.2"
  },
  "widgets": {
   "state": {},
   "version": "1.1.2"
  }
 },
 "nbformat": 4,
 "nbformat_minor": 0
}

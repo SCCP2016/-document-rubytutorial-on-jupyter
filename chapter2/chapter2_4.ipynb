{
 "cells": [
  {
   "cell_type": "markdown",
   "metadata": {},
   "source": [
    "### 2.4 for式\n",
    "この式はC言語などで用いる場面と同じく、配列の操作などに長けている。以下にその構文を示す。\n",
    "\n",
    "```ruby\n",
    "# doは省略可能\n",
    "for [変数] in [オブジェクト] do\n",
    "  [被制御部]\n",
    "end\n",
    "```\n",
    "\n",
    "実際にfor文を用いて繰り返し処理を実行してみよう。\n",
    "例えば、1から10までの和を求めるfor式は以下のようになる。\n"
   ]
  },
  {
   "cell_type": "code",
   "execution_count": 1,
   "metadata": {
    "collapsed": false
   },
   "outputs": [
    {
     "data": {
      "text/plain": [
       "1..10"
      ]
     },
     "execution_count": 1,
     "metadata": {},
     "output_type": "execute_result"
    }
   ],
   "source": [
    "# 1から10までの和をfor式で求める\n",
    "sum = 0\n",
    "for i in 1..10 do   # ここでもRange型が役に立つ。\n",
    "  sum = i + 1\n",
    "end"
   ]
  },
  {
   "cell_type": "markdown",
   "metadata": {},
   "source": [
    "また、for式が返却する値はループに使用したオブジェクトで、上の例では1..10である。\n",
    "\n",
    "おまけに、timesという面白いメソッドを紹介しよう。これはカウンタ変数を使用せず、指定された回数だけ処理を繰り返したときに使う。"
   ]
  },
  {
   "cell_type": "code",
   "execution_count": 2,
   "metadata": {
    "collapsed": false
   },
   "outputs": [
    {
     "name": "stdout",
     "output_type": "stream",
     "text": [
      "まわる〜まわる〜 10かい まわる〜\n",
      "まわる〜まわる〜 10かい まわる〜\n",
      "まわる〜まわる〜 10かい まわる〜\n",
      "まわる〜まわる〜 10かい まわる〜\n",
      "まわる〜まわる〜 10かい まわる〜\n",
      "まわる〜まわる〜 10かい まわる〜\n",
      "まわる〜まわる〜 10かい まわる〜\n",
      "まわる〜まわる〜 10かい まわる〜\n",
      "まわる〜まわる〜 10かい まわる〜\n",
      "まわる〜まわる〜 10かい まわる〜\n"
     ]
    },
    {
     "data": {
      "text/plain": [
       "10"
      ]
     },
     "execution_count": 2,
     "metadata": {},
     "output_type": "execute_result"
    }
   ],
   "source": [
    "10.times {\n",
    "\tputs 'まわる〜まわる〜 10かい まわる〜'\n",
    "}"
   ]
  },
  {
   "cell_type": "markdown",
   "metadata": {},
   "source": [
    "forとtimesメソッド両方を使い、以下の問題を解いてみよう。  \n",
    "http://judge.u-aizu.ac.jp/onlinejudge/description.jsp?id=ITP1_3_A "
   ]
  }
 ],
 "metadata": {
  "kernelspec": {
   "display_name": "Ruby",
   "language": "ruby",
   "name": "ruby"
  },
  "language_info": {
   "file_extension": "rb",
   "mimetype": "text/ruby",
   "name": "ruby",
   "version": "2.2.2"
  }
 },
 "nbformat": 4,
 "nbformat_minor": 0
}
